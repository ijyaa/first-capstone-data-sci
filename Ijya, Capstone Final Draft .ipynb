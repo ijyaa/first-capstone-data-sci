{
 "cells": [
  {
   "cell_type": "markdown",
   "metadata": {},
   "source": [
    "# Credit Card Default Rates - Analysis \n",
    "\n",
    "This project looks at a dataset that attempts to understand probability of credit card defaults based on various factors such as age, gender, relationship status, and education. The dataset also looks at other variety of data such as payments and bill amounts as well. \n",
    "\n",
    "In this project, I have attempted to analyze data provided to answer these questions below:\n",
    "\n",
    "1. Is there a correlation between social factors age / gender/ education / relationship status and default rates? Is one group more likely to default than others?\n",
    "\n",
    "2. Does limit balance play a factor in default rates? Are customers with a lower balance more likely to default than customers with higher balances? Also, who gets more limit balances by age groups?\n",
    "\n",
    "3. Can bill amount predict default rates? Does a high bill amount lead to higher default rates?\n",
    "\n",
    "To answer these questions above. I will use various statistical tools and analysis. I will begin by summarizing and highlighting the main portions of the dataset and will follow that by answering each questions above. \n",
    "\n",
    "## Highlights of Dataset: \n",
    "\n",
    "The dataset contains over 30,000 customers. The social background of customers are provided under these factors: gender, age, education, and relationship status. \n",
    "\n",
    "Each customer's limit balance given by the bank is also provided. Their payments history and balance history is also provided. \n",
    "\n",
    "In addition, the dataset also predicts if a customer will default or not which is listed as 0 = Default, 1 = No Default. \n",
    "\n",
    "    1. Number of Customers: 30,000 \n",
    "    2. Mean Age of Customers: 35 \n",
    "    3. Male Customers: 11,888\n",
    "    4. Female Customers: 18,112\n",
    "    5. Most common limit amount: 50,000 (over 3365 customers have this limit) \n",
    "    6. Most common age group: 29 years old (over 1605 customers are this age) \n",
    "    7. Highest limit: 1,000,000 \n",
    "    8. Lowest limit: 10,000\n",
    "    9. Mean Limit: 167,484\n",
    "    10. Median Limit: 140,000\n",
    "    11. Standard Deviation: 129,748 (really high)\n",
    "    12. # of Customers that default: 6,636 \n",
    "    13. # of Customers who don't default: 23,364\n",
    "    14. Percentage of Default: 0.284"
   ]
  },
  {
   "cell_type": "code",
   "execution_count": 1,
   "metadata": {},
   "outputs": [],
   "source": [
    "import numpy as np \n",
    "import pandas as pd \n",
    "import matplotlib.pyplot as plt\n",
    "import scipy"
   ]
  },
  {
   "cell_type": "code",
   "execution_count": 2,
   "metadata": {},
   "outputs": [
    {
     "data": {
      "text/plain": [
       "'/Users/ijyapaudel/Desktop/Thinkful/Capstone Project'"
      ]
     },
     "execution_count": 2,
     "metadata": {},
     "output_type": "execute_result"
    }
   ],
   "source": [
    "pwd"
   ]
  },
  {
   "cell_type": "code",
   "execution_count": 3,
   "metadata": {},
   "outputs": [],
   "source": [
    "cc_df = pd.read_csv('UCI_Credit_Card.csv')"
   ]
  },
  {
   "cell_type": "code",
   "execution_count": 4,
   "metadata": {},
   "outputs": [
    {
     "data": {
      "text/html": [
       "<div>\n",
       "<style scoped>\n",
       "    .dataframe tbody tr th:only-of-type {\n",
       "        vertical-align: middle;\n",
       "    }\n",
       "\n",
       "    .dataframe tbody tr th {\n",
       "        vertical-align: top;\n",
       "    }\n",
       "\n",
       "    .dataframe thead th {\n",
       "        text-align: right;\n",
       "    }\n",
       "</style>\n",
       "<table border=\"1\" class=\"dataframe\">\n",
       "  <thead>\n",
       "    <tr style=\"text-align: right;\">\n",
       "      <th></th>\n",
       "      <th>ID</th>\n",
       "      <th>LIMIT_BAL</th>\n",
       "      <th>SEX</th>\n",
       "      <th>EDUCATION</th>\n",
       "      <th>MARRIAGE</th>\n",
       "      <th>AGE</th>\n",
       "      <th>PAY_0</th>\n",
       "      <th>PAY_2</th>\n",
       "      <th>PAY_3</th>\n",
       "      <th>PAY_4</th>\n",
       "      <th>...</th>\n",
       "      <th>BILL_AMT4</th>\n",
       "      <th>BILL_AMT5</th>\n",
       "      <th>BILL_AMT6</th>\n",
       "      <th>PAY_AMT1</th>\n",
       "      <th>PAY_AMT2</th>\n",
       "      <th>PAY_AMT3</th>\n",
       "      <th>PAY_AMT4</th>\n",
       "      <th>PAY_AMT5</th>\n",
       "      <th>PAY_AMT6</th>\n",
       "      <th>default.payment.next.month</th>\n",
       "    </tr>\n",
       "  </thead>\n",
       "  <tbody>\n",
       "    <tr>\n",
       "      <th>0</th>\n",
       "      <td>1</td>\n",
       "      <td>20000.0</td>\n",
       "      <td>2</td>\n",
       "      <td>2</td>\n",
       "      <td>1</td>\n",
       "      <td>24</td>\n",
       "      <td>2</td>\n",
       "      <td>2</td>\n",
       "      <td>-1</td>\n",
       "      <td>-1</td>\n",
       "      <td>...</td>\n",
       "      <td>0.0</td>\n",
       "      <td>0.0</td>\n",
       "      <td>0.0</td>\n",
       "      <td>0.0</td>\n",
       "      <td>689.0</td>\n",
       "      <td>0.0</td>\n",
       "      <td>0.0</td>\n",
       "      <td>0.0</td>\n",
       "      <td>0.0</td>\n",
       "      <td>1</td>\n",
       "    </tr>\n",
       "    <tr>\n",
       "      <th>1</th>\n",
       "      <td>2</td>\n",
       "      <td>120000.0</td>\n",
       "      <td>2</td>\n",
       "      <td>2</td>\n",
       "      <td>2</td>\n",
       "      <td>26</td>\n",
       "      <td>-1</td>\n",
       "      <td>2</td>\n",
       "      <td>0</td>\n",
       "      <td>0</td>\n",
       "      <td>...</td>\n",
       "      <td>3272.0</td>\n",
       "      <td>3455.0</td>\n",
       "      <td>3261.0</td>\n",
       "      <td>0.0</td>\n",
       "      <td>1000.0</td>\n",
       "      <td>1000.0</td>\n",
       "      <td>1000.0</td>\n",
       "      <td>0.0</td>\n",
       "      <td>2000.0</td>\n",
       "      <td>1</td>\n",
       "    </tr>\n",
       "    <tr>\n",
       "      <th>2</th>\n",
       "      <td>3</td>\n",
       "      <td>90000.0</td>\n",
       "      <td>2</td>\n",
       "      <td>2</td>\n",
       "      <td>2</td>\n",
       "      <td>34</td>\n",
       "      <td>0</td>\n",
       "      <td>0</td>\n",
       "      <td>0</td>\n",
       "      <td>0</td>\n",
       "      <td>...</td>\n",
       "      <td>14331.0</td>\n",
       "      <td>14948.0</td>\n",
       "      <td>15549.0</td>\n",
       "      <td>1518.0</td>\n",
       "      <td>1500.0</td>\n",
       "      <td>1000.0</td>\n",
       "      <td>1000.0</td>\n",
       "      <td>1000.0</td>\n",
       "      <td>5000.0</td>\n",
       "      <td>0</td>\n",
       "    </tr>\n",
       "    <tr>\n",
       "      <th>3</th>\n",
       "      <td>4</td>\n",
       "      <td>50000.0</td>\n",
       "      <td>2</td>\n",
       "      <td>2</td>\n",
       "      <td>1</td>\n",
       "      <td>37</td>\n",
       "      <td>0</td>\n",
       "      <td>0</td>\n",
       "      <td>0</td>\n",
       "      <td>0</td>\n",
       "      <td>...</td>\n",
       "      <td>28314.0</td>\n",
       "      <td>28959.0</td>\n",
       "      <td>29547.0</td>\n",
       "      <td>2000.0</td>\n",
       "      <td>2019.0</td>\n",
       "      <td>1200.0</td>\n",
       "      <td>1100.0</td>\n",
       "      <td>1069.0</td>\n",
       "      <td>1000.0</td>\n",
       "      <td>0</td>\n",
       "    </tr>\n",
       "    <tr>\n",
       "      <th>4</th>\n",
       "      <td>5</td>\n",
       "      <td>50000.0</td>\n",
       "      <td>1</td>\n",
       "      <td>2</td>\n",
       "      <td>1</td>\n",
       "      <td>57</td>\n",
       "      <td>-1</td>\n",
       "      <td>0</td>\n",
       "      <td>-1</td>\n",
       "      <td>0</td>\n",
       "      <td>...</td>\n",
       "      <td>20940.0</td>\n",
       "      <td>19146.0</td>\n",
       "      <td>19131.0</td>\n",
       "      <td>2000.0</td>\n",
       "      <td>36681.0</td>\n",
       "      <td>10000.0</td>\n",
       "      <td>9000.0</td>\n",
       "      <td>689.0</td>\n",
       "      <td>679.0</td>\n",
       "      <td>0</td>\n",
       "    </tr>\n",
       "    <tr>\n",
       "      <th>5</th>\n",
       "      <td>6</td>\n",
       "      <td>50000.0</td>\n",
       "      <td>1</td>\n",
       "      <td>1</td>\n",
       "      <td>2</td>\n",
       "      <td>37</td>\n",
       "      <td>0</td>\n",
       "      <td>0</td>\n",
       "      <td>0</td>\n",
       "      <td>0</td>\n",
       "      <td>...</td>\n",
       "      <td>19394.0</td>\n",
       "      <td>19619.0</td>\n",
       "      <td>20024.0</td>\n",
       "      <td>2500.0</td>\n",
       "      <td>1815.0</td>\n",
       "      <td>657.0</td>\n",
       "      <td>1000.0</td>\n",
       "      <td>1000.0</td>\n",
       "      <td>800.0</td>\n",
       "      <td>0</td>\n",
       "    </tr>\n",
       "    <tr>\n",
       "      <th>6</th>\n",
       "      <td>7</td>\n",
       "      <td>500000.0</td>\n",
       "      <td>1</td>\n",
       "      <td>1</td>\n",
       "      <td>2</td>\n",
       "      <td>29</td>\n",
       "      <td>0</td>\n",
       "      <td>0</td>\n",
       "      <td>0</td>\n",
       "      <td>0</td>\n",
       "      <td>...</td>\n",
       "      <td>542653.0</td>\n",
       "      <td>483003.0</td>\n",
       "      <td>473944.0</td>\n",
       "      <td>55000.0</td>\n",
       "      <td>40000.0</td>\n",
       "      <td>38000.0</td>\n",
       "      <td>20239.0</td>\n",
       "      <td>13750.0</td>\n",
       "      <td>13770.0</td>\n",
       "      <td>0</td>\n",
       "    </tr>\n",
       "    <tr>\n",
       "      <th>7</th>\n",
       "      <td>8</td>\n",
       "      <td>100000.0</td>\n",
       "      <td>2</td>\n",
       "      <td>2</td>\n",
       "      <td>2</td>\n",
       "      <td>23</td>\n",
       "      <td>0</td>\n",
       "      <td>-1</td>\n",
       "      <td>-1</td>\n",
       "      <td>0</td>\n",
       "      <td>...</td>\n",
       "      <td>221.0</td>\n",
       "      <td>-159.0</td>\n",
       "      <td>567.0</td>\n",
       "      <td>380.0</td>\n",
       "      <td>601.0</td>\n",
       "      <td>0.0</td>\n",
       "      <td>581.0</td>\n",
       "      <td>1687.0</td>\n",
       "      <td>1542.0</td>\n",
       "      <td>0</td>\n",
       "    </tr>\n",
       "    <tr>\n",
       "      <th>8</th>\n",
       "      <td>9</td>\n",
       "      <td>140000.0</td>\n",
       "      <td>2</td>\n",
       "      <td>3</td>\n",
       "      <td>1</td>\n",
       "      <td>28</td>\n",
       "      <td>0</td>\n",
       "      <td>0</td>\n",
       "      <td>2</td>\n",
       "      <td>0</td>\n",
       "      <td>...</td>\n",
       "      <td>12211.0</td>\n",
       "      <td>11793.0</td>\n",
       "      <td>3719.0</td>\n",
       "      <td>3329.0</td>\n",
       "      <td>0.0</td>\n",
       "      <td>432.0</td>\n",
       "      <td>1000.0</td>\n",
       "      <td>1000.0</td>\n",
       "      <td>1000.0</td>\n",
       "      <td>0</td>\n",
       "    </tr>\n",
       "    <tr>\n",
       "      <th>9</th>\n",
       "      <td>10</td>\n",
       "      <td>20000.0</td>\n",
       "      <td>1</td>\n",
       "      <td>3</td>\n",
       "      <td>2</td>\n",
       "      <td>35</td>\n",
       "      <td>-2</td>\n",
       "      <td>-2</td>\n",
       "      <td>-2</td>\n",
       "      <td>-2</td>\n",
       "      <td>...</td>\n",
       "      <td>0.0</td>\n",
       "      <td>13007.0</td>\n",
       "      <td>13912.0</td>\n",
       "      <td>0.0</td>\n",
       "      <td>0.0</td>\n",
       "      <td>0.0</td>\n",
       "      <td>13007.0</td>\n",
       "      <td>1122.0</td>\n",
       "      <td>0.0</td>\n",
       "      <td>0</td>\n",
       "    </tr>\n",
       "    <tr>\n",
       "      <th>10</th>\n",
       "      <td>11</td>\n",
       "      <td>200000.0</td>\n",
       "      <td>2</td>\n",
       "      <td>3</td>\n",
       "      <td>2</td>\n",
       "      <td>34</td>\n",
       "      <td>0</td>\n",
       "      <td>0</td>\n",
       "      <td>2</td>\n",
       "      <td>0</td>\n",
       "      <td>...</td>\n",
       "      <td>2513.0</td>\n",
       "      <td>1828.0</td>\n",
       "      <td>3731.0</td>\n",
       "      <td>2306.0</td>\n",
       "      <td>12.0</td>\n",
       "      <td>50.0</td>\n",
       "      <td>300.0</td>\n",
       "      <td>3738.0</td>\n",
       "      <td>66.0</td>\n",
       "      <td>0</td>\n",
       "    </tr>\n",
       "    <tr>\n",
       "      <th>11</th>\n",
       "      <td>12</td>\n",
       "      <td>260000.0</td>\n",
       "      <td>2</td>\n",
       "      <td>1</td>\n",
       "      <td>2</td>\n",
       "      <td>51</td>\n",
       "      <td>-1</td>\n",
       "      <td>-1</td>\n",
       "      <td>-1</td>\n",
       "      <td>-1</td>\n",
       "      <td>...</td>\n",
       "      <td>8517.0</td>\n",
       "      <td>22287.0</td>\n",
       "      <td>13668.0</td>\n",
       "      <td>21818.0</td>\n",
       "      <td>9966.0</td>\n",
       "      <td>8583.0</td>\n",
       "      <td>22301.0</td>\n",
       "      <td>0.0</td>\n",
       "      <td>3640.0</td>\n",
       "      <td>0</td>\n",
       "    </tr>\n",
       "    <tr>\n",
       "      <th>12</th>\n",
       "      <td>13</td>\n",
       "      <td>630000.0</td>\n",
       "      <td>2</td>\n",
       "      <td>2</td>\n",
       "      <td>2</td>\n",
       "      <td>41</td>\n",
       "      <td>-1</td>\n",
       "      <td>0</td>\n",
       "      <td>-1</td>\n",
       "      <td>-1</td>\n",
       "      <td>...</td>\n",
       "      <td>6500.0</td>\n",
       "      <td>6500.0</td>\n",
       "      <td>2870.0</td>\n",
       "      <td>1000.0</td>\n",
       "      <td>6500.0</td>\n",
       "      <td>6500.0</td>\n",
       "      <td>6500.0</td>\n",
       "      <td>2870.0</td>\n",
       "      <td>0.0</td>\n",
       "      <td>0</td>\n",
       "    </tr>\n",
       "    <tr>\n",
       "      <th>13</th>\n",
       "      <td>14</td>\n",
       "      <td>70000.0</td>\n",
       "      <td>1</td>\n",
       "      <td>2</td>\n",
       "      <td>2</td>\n",
       "      <td>30</td>\n",
       "      <td>1</td>\n",
       "      <td>2</td>\n",
       "      <td>2</td>\n",
       "      <td>0</td>\n",
       "      <td>...</td>\n",
       "      <td>66782.0</td>\n",
       "      <td>36137.0</td>\n",
       "      <td>36894.0</td>\n",
       "      <td>3200.0</td>\n",
       "      <td>0.0</td>\n",
       "      <td>3000.0</td>\n",
       "      <td>3000.0</td>\n",
       "      <td>1500.0</td>\n",
       "      <td>0.0</td>\n",
       "      <td>1</td>\n",
       "    </tr>\n",
       "    <tr>\n",
       "      <th>14</th>\n",
       "      <td>15</td>\n",
       "      <td>250000.0</td>\n",
       "      <td>1</td>\n",
       "      <td>1</td>\n",
       "      <td>2</td>\n",
       "      <td>29</td>\n",
       "      <td>0</td>\n",
       "      <td>0</td>\n",
       "      <td>0</td>\n",
       "      <td>0</td>\n",
       "      <td>...</td>\n",
       "      <td>59696.0</td>\n",
       "      <td>56875.0</td>\n",
       "      <td>55512.0</td>\n",
       "      <td>3000.0</td>\n",
       "      <td>3000.0</td>\n",
       "      <td>3000.0</td>\n",
       "      <td>3000.0</td>\n",
       "      <td>3000.0</td>\n",
       "      <td>3000.0</td>\n",
       "      <td>0</td>\n",
       "    </tr>\n",
       "    <tr>\n",
       "      <th>15</th>\n",
       "      <td>16</td>\n",
       "      <td>50000.0</td>\n",
       "      <td>2</td>\n",
       "      <td>3</td>\n",
       "      <td>3</td>\n",
       "      <td>23</td>\n",
       "      <td>1</td>\n",
       "      <td>2</td>\n",
       "      <td>0</td>\n",
       "      <td>0</td>\n",
       "      <td>...</td>\n",
       "      <td>28771.0</td>\n",
       "      <td>29531.0</td>\n",
       "      <td>30211.0</td>\n",
       "      <td>0.0</td>\n",
       "      <td>1500.0</td>\n",
       "      <td>1100.0</td>\n",
       "      <td>1200.0</td>\n",
       "      <td>1300.0</td>\n",
       "      <td>1100.0</td>\n",
       "      <td>0</td>\n",
       "    </tr>\n",
       "    <tr>\n",
       "      <th>16</th>\n",
       "      <td>17</td>\n",
       "      <td>20000.0</td>\n",
       "      <td>1</td>\n",
       "      <td>1</td>\n",
       "      <td>2</td>\n",
       "      <td>24</td>\n",
       "      <td>0</td>\n",
       "      <td>0</td>\n",
       "      <td>2</td>\n",
       "      <td>2</td>\n",
       "      <td>...</td>\n",
       "      <td>18338.0</td>\n",
       "      <td>17905.0</td>\n",
       "      <td>19104.0</td>\n",
       "      <td>3200.0</td>\n",
       "      <td>0.0</td>\n",
       "      <td>1500.0</td>\n",
       "      <td>0.0</td>\n",
       "      <td>1650.0</td>\n",
       "      <td>0.0</td>\n",
       "      <td>1</td>\n",
       "    </tr>\n",
       "    <tr>\n",
       "      <th>17</th>\n",
       "      <td>18</td>\n",
       "      <td>320000.0</td>\n",
       "      <td>1</td>\n",
       "      <td>1</td>\n",
       "      <td>1</td>\n",
       "      <td>49</td>\n",
       "      <td>0</td>\n",
       "      <td>0</td>\n",
       "      <td>0</td>\n",
       "      <td>-1</td>\n",
       "      <td>...</td>\n",
       "      <td>70074.0</td>\n",
       "      <td>5856.0</td>\n",
       "      <td>195599.0</td>\n",
       "      <td>10358.0</td>\n",
       "      <td>10000.0</td>\n",
       "      <td>75940.0</td>\n",
       "      <td>20000.0</td>\n",
       "      <td>195599.0</td>\n",
       "      <td>50000.0</td>\n",
       "      <td>0</td>\n",
       "    </tr>\n",
       "    <tr>\n",
       "      <th>18</th>\n",
       "      <td>19</td>\n",
       "      <td>360000.0</td>\n",
       "      <td>2</td>\n",
       "      <td>1</td>\n",
       "      <td>1</td>\n",
       "      <td>49</td>\n",
       "      <td>1</td>\n",
       "      <td>-2</td>\n",
       "      <td>-2</td>\n",
       "      <td>-2</td>\n",
       "      <td>...</td>\n",
       "      <td>0.0</td>\n",
       "      <td>0.0</td>\n",
       "      <td>0.0</td>\n",
       "      <td>0.0</td>\n",
       "      <td>0.0</td>\n",
       "      <td>0.0</td>\n",
       "      <td>0.0</td>\n",
       "      <td>0.0</td>\n",
       "      <td>0.0</td>\n",
       "      <td>0</td>\n",
       "    </tr>\n",
       "    <tr>\n",
       "      <th>19</th>\n",
       "      <td>20</td>\n",
       "      <td>180000.0</td>\n",
       "      <td>2</td>\n",
       "      <td>1</td>\n",
       "      <td>2</td>\n",
       "      <td>29</td>\n",
       "      <td>1</td>\n",
       "      <td>-2</td>\n",
       "      <td>-2</td>\n",
       "      <td>-2</td>\n",
       "      <td>...</td>\n",
       "      <td>0.0</td>\n",
       "      <td>0.0</td>\n",
       "      <td>0.0</td>\n",
       "      <td>0.0</td>\n",
       "      <td>0.0</td>\n",
       "      <td>0.0</td>\n",
       "      <td>0.0</td>\n",
       "      <td>0.0</td>\n",
       "      <td>0.0</td>\n",
       "      <td>0</td>\n",
       "    </tr>\n",
       "    <tr>\n",
       "      <th>20</th>\n",
       "      <td>21</td>\n",
       "      <td>130000.0</td>\n",
       "      <td>2</td>\n",
       "      <td>3</td>\n",
       "      <td>2</td>\n",
       "      <td>39</td>\n",
       "      <td>0</td>\n",
       "      <td>0</td>\n",
       "      <td>0</td>\n",
       "      <td>0</td>\n",
       "      <td>...</td>\n",
       "      <td>20616.0</td>\n",
       "      <td>11802.0</td>\n",
       "      <td>930.0</td>\n",
       "      <td>3000.0</td>\n",
       "      <td>1537.0</td>\n",
       "      <td>1000.0</td>\n",
       "      <td>2000.0</td>\n",
       "      <td>930.0</td>\n",
       "      <td>33764.0</td>\n",
       "      <td>0</td>\n",
       "    </tr>\n",
       "    <tr>\n",
       "      <th>21</th>\n",
       "      <td>22</td>\n",
       "      <td>120000.0</td>\n",
       "      <td>2</td>\n",
       "      <td>2</td>\n",
       "      <td>1</td>\n",
       "      <td>39</td>\n",
       "      <td>-1</td>\n",
       "      <td>-1</td>\n",
       "      <td>-1</td>\n",
       "      <td>-1</td>\n",
       "      <td>...</td>\n",
       "      <td>0.0</td>\n",
       "      <td>632.0</td>\n",
       "      <td>316.0</td>\n",
       "      <td>316.0</td>\n",
       "      <td>316.0</td>\n",
       "      <td>0.0</td>\n",
       "      <td>632.0</td>\n",
       "      <td>316.0</td>\n",
       "      <td>0.0</td>\n",
       "      <td>1</td>\n",
       "    </tr>\n",
       "    <tr>\n",
       "      <th>22</th>\n",
       "      <td>23</td>\n",
       "      <td>70000.0</td>\n",
       "      <td>2</td>\n",
       "      <td>2</td>\n",
       "      <td>2</td>\n",
       "      <td>26</td>\n",
       "      <td>2</td>\n",
       "      <td>0</td>\n",
       "      <td>0</td>\n",
       "      <td>2</td>\n",
       "      <td>...</td>\n",
       "      <td>44006.0</td>\n",
       "      <td>46905.0</td>\n",
       "      <td>46012.0</td>\n",
       "      <td>2007.0</td>\n",
       "      <td>3582.0</td>\n",
       "      <td>0.0</td>\n",
       "      <td>3601.0</td>\n",
       "      <td>0.0</td>\n",
       "      <td>1820.0</td>\n",
       "      <td>1</td>\n",
       "    </tr>\n",
       "    <tr>\n",
       "      <th>23</th>\n",
       "      <td>24</td>\n",
       "      <td>450000.0</td>\n",
       "      <td>2</td>\n",
       "      <td>1</td>\n",
       "      <td>1</td>\n",
       "      <td>40</td>\n",
       "      <td>-2</td>\n",
       "      <td>-2</td>\n",
       "      <td>-2</td>\n",
       "      <td>-2</td>\n",
       "      <td>...</td>\n",
       "      <td>560.0</td>\n",
       "      <td>0.0</td>\n",
       "      <td>0.0</td>\n",
       "      <td>19428.0</td>\n",
       "      <td>1473.0</td>\n",
       "      <td>560.0</td>\n",
       "      <td>0.0</td>\n",
       "      <td>0.0</td>\n",
       "      <td>1128.0</td>\n",
       "      <td>1</td>\n",
       "    </tr>\n",
       "    <tr>\n",
       "      <th>24</th>\n",
       "      <td>25</td>\n",
       "      <td>90000.0</td>\n",
       "      <td>1</td>\n",
       "      <td>1</td>\n",
       "      <td>2</td>\n",
       "      <td>23</td>\n",
       "      <td>0</td>\n",
       "      <td>0</td>\n",
       "      <td>0</td>\n",
       "      <td>-1</td>\n",
       "      <td>...</td>\n",
       "      <td>5398.0</td>\n",
       "      <td>6360.0</td>\n",
       "      <td>8292.0</td>\n",
       "      <td>5757.0</td>\n",
       "      <td>0.0</td>\n",
       "      <td>5398.0</td>\n",
       "      <td>1200.0</td>\n",
       "      <td>2045.0</td>\n",
       "      <td>2000.0</td>\n",
       "      <td>0</td>\n",
       "    </tr>\n",
       "    <tr>\n",
       "      <th>25</th>\n",
       "      <td>26</td>\n",
       "      <td>50000.0</td>\n",
       "      <td>1</td>\n",
       "      <td>3</td>\n",
       "      <td>2</td>\n",
       "      <td>23</td>\n",
       "      <td>0</td>\n",
       "      <td>0</td>\n",
       "      <td>0</td>\n",
       "      <td>0</td>\n",
       "      <td>...</td>\n",
       "      <td>28967.0</td>\n",
       "      <td>29829.0</td>\n",
       "      <td>30046.0</td>\n",
       "      <td>1973.0</td>\n",
       "      <td>1426.0</td>\n",
       "      <td>1001.0</td>\n",
       "      <td>1432.0</td>\n",
       "      <td>1062.0</td>\n",
       "      <td>997.0</td>\n",
       "      <td>0</td>\n",
       "    </tr>\n",
       "    <tr>\n",
       "      <th>26</th>\n",
       "      <td>27</td>\n",
       "      <td>60000.0</td>\n",
       "      <td>1</td>\n",
       "      <td>1</td>\n",
       "      <td>2</td>\n",
       "      <td>27</td>\n",
       "      <td>1</td>\n",
       "      <td>-2</td>\n",
       "      <td>-1</td>\n",
       "      <td>-1</td>\n",
       "      <td>...</td>\n",
       "      <td>-57.0</td>\n",
       "      <td>127.0</td>\n",
       "      <td>-189.0</td>\n",
       "      <td>0.0</td>\n",
       "      <td>1000.0</td>\n",
       "      <td>0.0</td>\n",
       "      <td>500.0</td>\n",
       "      <td>0.0</td>\n",
       "      <td>1000.0</td>\n",
       "      <td>1</td>\n",
       "    </tr>\n",
       "    <tr>\n",
       "      <th>27</th>\n",
       "      <td>28</td>\n",
       "      <td>50000.0</td>\n",
       "      <td>2</td>\n",
       "      <td>3</td>\n",
       "      <td>2</td>\n",
       "      <td>30</td>\n",
       "      <td>0</td>\n",
       "      <td>0</td>\n",
       "      <td>0</td>\n",
       "      <td>0</td>\n",
       "      <td>...</td>\n",
       "      <td>17878.0</td>\n",
       "      <td>18931.0</td>\n",
       "      <td>19617.0</td>\n",
       "      <td>1300.0</td>\n",
       "      <td>1300.0</td>\n",
       "      <td>1000.0</td>\n",
       "      <td>1500.0</td>\n",
       "      <td>1000.0</td>\n",
       "      <td>1012.0</td>\n",
       "      <td>0</td>\n",
       "    </tr>\n",
       "    <tr>\n",
       "      <th>28</th>\n",
       "      <td>29</td>\n",
       "      <td>50000.0</td>\n",
       "      <td>2</td>\n",
       "      <td>3</td>\n",
       "      <td>1</td>\n",
       "      <td>47</td>\n",
       "      <td>-1</td>\n",
       "      <td>-1</td>\n",
       "      <td>-1</td>\n",
       "      <td>-1</td>\n",
       "      <td>...</td>\n",
       "      <td>2040.0</td>\n",
       "      <td>30430.0</td>\n",
       "      <td>257.0</td>\n",
       "      <td>3415.0</td>\n",
       "      <td>3421.0</td>\n",
       "      <td>2044.0</td>\n",
       "      <td>30430.0</td>\n",
       "      <td>257.0</td>\n",
       "      <td>0.0</td>\n",
       "      <td>0</td>\n",
       "    </tr>\n",
       "    <tr>\n",
       "      <th>29</th>\n",
       "      <td>30</td>\n",
       "      <td>50000.0</td>\n",
       "      <td>1</td>\n",
       "      <td>1</td>\n",
       "      <td>2</td>\n",
       "      <td>26</td>\n",
       "      <td>0</td>\n",
       "      <td>0</td>\n",
       "      <td>0</td>\n",
       "      <td>0</td>\n",
       "      <td>...</td>\n",
       "      <td>17907.0</td>\n",
       "      <td>18375.0</td>\n",
       "      <td>11400.0</td>\n",
       "      <td>1500.0</td>\n",
       "      <td>1500.0</td>\n",
       "      <td>1000.0</td>\n",
       "      <td>1000.0</td>\n",
       "      <td>1600.0</td>\n",
       "      <td>0.0</td>\n",
       "      <td>0</td>\n",
       "    </tr>\n",
       "    <tr>\n",
       "      <th>...</th>\n",
       "      <td>...</td>\n",
       "      <td>...</td>\n",
       "      <td>...</td>\n",
       "      <td>...</td>\n",
       "      <td>...</td>\n",
       "      <td>...</td>\n",
       "      <td>...</td>\n",
       "      <td>...</td>\n",
       "      <td>...</td>\n",
       "      <td>...</td>\n",
       "      <td>...</td>\n",
       "      <td>...</td>\n",
       "      <td>...</td>\n",
       "      <td>...</td>\n",
       "      <td>...</td>\n",
       "      <td>...</td>\n",
       "      <td>...</td>\n",
       "      <td>...</td>\n",
       "      <td>...</td>\n",
       "      <td>...</td>\n",
       "      <td>...</td>\n",
       "    </tr>\n",
       "    <tr>\n",
       "      <th>29970</th>\n",
       "      <td>29971</td>\n",
       "      <td>360000.0</td>\n",
       "      <td>1</td>\n",
       "      <td>1</td>\n",
       "      <td>1</td>\n",
       "      <td>34</td>\n",
       "      <td>-1</td>\n",
       "      <td>-1</td>\n",
       "      <td>-1</td>\n",
       "      <td>0</td>\n",
       "      <td>...</td>\n",
       "      <td>49005.0</td>\n",
       "      <td>8676.0</td>\n",
       "      <td>19487.0</td>\n",
       "      <td>52951.0</td>\n",
       "      <td>64535.0</td>\n",
       "      <td>8907.0</td>\n",
       "      <td>53.0</td>\n",
       "      <td>19584.0</td>\n",
       "      <td>16080.0</td>\n",
       "      <td>0</td>\n",
       "    </tr>\n",
       "    <tr>\n",
       "      <th>29971</th>\n",
       "      <td>29972</td>\n",
       "      <td>80000.0</td>\n",
       "      <td>1</td>\n",
       "      <td>3</td>\n",
       "      <td>1</td>\n",
       "      <td>36</td>\n",
       "      <td>0</td>\n",
       "      <td>0</td>\n",
       "      <td>0</td>\n",
       "      <td>0</td>\n",
       "      <td>...</td>\n",
       "      <td>69674.0</td>\n",
       "      <td>71070.0</td>\n",
       "      <td>73612.0</td>\n",
       "      <td>2395.0</td>\n",
       "      <td>2500.0</td>\n",
       "      <td>2530.0</td>\n",
       "      <td>2556.0</td>\n",
       "      <td>3700.0</td>\n",
       "      <td>3000.0</td>\n",
       "      <td>0</td>\n",
       "    </tr>\n",
       "    <tr>\n",
       "      <th>29972</th>\n",
       "      <td>29973</td>\n",
       "      <td>190000.0</td>\n",
       "      <td>1</td>\n",
       "      <td>1</td>\n",
       "      <td>1</td>\n",
       "      <td>37</td>\n",
       "      <td>0</td>\n",
       "      <td>0</td>\n",
       "      <td>0</td>\n",
       "      <td>0</td>\n",
       "      <td>...</td>\n",
       "      <td>29223.0</td>\n",
       "      <td>19616.0</td>\n",
       "      <td>148482.0</td>\n",
       "      <td>2000.0</td>\n",
       "      <td>3869.0</td>\n",
       "      <td>25128.0</td>\n",
       "      <td>10115.0</td>\n",
       "      <td>148482.0</td>\n",
       "      <td>4800.0</td>\n",
       "      <td>0</td>\n",
       "    </tr>\n",
       "    <tr>\n",
       "      <th>29973</th>\n",
       "      <td>29974</td>\n",
       "      <td>230000.0</td>\n",
       "      <td>1</td>\n",
       "      <td>2</td>\n",
       "      <td>1</td>\n",
       "      <td>35</td>\n",
       "      <td>1</td>\n",
       "      <td>-2</td>\n",
       "      <td>-2</td>\n",
       "      <td>-2</td>\n",
       "      <td>...</td>\n",
       "      <td>0.0</td>\n",
       "      <td>0.0</td>\n",
       "      <td>0.0</td>\n",
       "      <td>0.0</td>\n",
       "      <td>0.0</td>\n",
       "      <td>0.0</td>\n",
       "      <td>0.0</td>\n",
       "      <td>0.0</td>\n",
       "      <td>0.0</td>\n",
       "      <td>1</td>\n",
       "    </tr>\n",
       "    <tr>\n",
       "      <th>29974</th>\n",
       "      <td>29975</td>\n",
       "      <td>50000.0</td>\n",
       "      <td>1</td>\n",
       "      <td>2</td>\n",
       "      <td>1</td>\n",
       "      <td>37</td>\n",
       "      <td>1</td>\n",
       "      <td>2</td>\n",
       "      <td>2</td>\n",
       "      <td>2</td>\n",
       "      <td>...</td>\n",
       "      <td>2846.0</td>\n",
       "      <td>1585.0</td>\n",
       "      <td>1324.0</td>\n",
       "      <td>0.0</td>\n",
       "      <td>3000.0</td>\n",
       "      <td>0.0</td>\n",
       "      <td>0.0</td>\n",
       "      <td>1000.0</td>\n",
       "      <td>1000.0</td>\n",
       "      <td>1</td>\n",
       "    </tr>\n",
       "    <tr>\n",
       "      <th>29975</th>\n",
       "      <td>29976</td>\n",
       "      <td>220000.0</td>\n",
       "      <td>1</td>\n",
       "      <td>2</td>\n",
       "      <td>1</td>\n",
       "      <td>41</td>\n",
       "      <td>0</td>\n",
       "      <td>0</td>\n",
       "      <td>-1</td>\n",
       "      <td>-1</td>\n",
       "      <td>...</td>\n",
       "      <td>5924.0</td>\n",
       "      <td>1759.0</td>\n",
       "      <td>1824.0</td>\n",
       "      <td>8840.0</td>\n",
       "      <td>6643.0</td>\n",
       "      <td>5924.0</td>\n",
       "      <td>1759.0</td>\n",
       "      <td>1824.0</td>\n",
       "      <td>7022.0</td>\n",
       "      <td>0</td>\n",
       "    </tr>\n",
       "    <tr>\n",
       "      <th>29976</th>\n",
       "      <td>29977</td>\n",
       "      <td>40000.0</td>\n",
       "      <td>1</td>\n",
       "      <td>2</td>\n",
       "      <td>2</td>\n",
       "      <td>47</td>\n",
       "      <td>2</td>\n",
       "      <td>2</td>\n",
       "      <td>3</td>\n",
       "      <td>2</td>\n",
       "      <td>...</td>\n",
       "      <td>51259.0</td>\n",
       "      <td>47151.0</td>\n",
       "      <td>46934.0</td>\n",
       "      <td>4000.0</td>\n",
       "      <td>0.0</td>\n",
       "      <td>2000.0</td>\n",
       "      <td>0.0</td>\n",
       "      <td>3520.0</td>\n",
       "      <td>0.0</td>\n",
       "      <td>1</td>\n",
       "    </tr>\n",
       "    <tr>\n",
       "      <th>29977</th>\n",
       "      <td>29978</td>\n",
       "      <td>420000.0</td>\n",
       "      <td>1</td>\n",
       "      <td>1</td>\n",
       "      <td>2</td>\n",
       "      <td>34</td>\n",
       "      <td>0</td>\n",
       "      <td>0</td>\n",
       "      <td>0</td>\n",
       "      <td>0</td>\n",
       "      <td>...</td>\n",
       "      <td>141695.0</td>\n",
       "      <td>144839.0</td>\n",
       "      <td>147954.0</td>\n",
       "      <td>7000.0</td>\n",
       "      <td>7000.0</td>\n",
       "      <td>5500.0</td>\n",
       "      <td>5500.0</td>\n",
       "      <td>5600.0</td>\n",
       "      <td>5000.0</td>\n",
       "      <td>0</td>\n",
       "    </tr>\n",
       "    <tr>\n",
       "      <th>29978</th>\n",
       "      <td>29979</td>\n",
       "      <td>310000.0</td>\n",
       "      <td>1</td>\n",
       "      <td>2</td>\n",
       "      <td>1</td>\n",
       "      <td>39</td>\n",
       "      <td>0</td>\n",
       "      <td>0</td>\n",
       "      <td>0</td>\n",
       "      <td>0</td>\n",
       "      <td>...</td>\n",
       "      <td>219409.0</td>\n",
       "      <td>216540.0</td>\n",
       "      <td>210675.0</td>\n",
       "      <td>10029.0</td>\n",
       "      <td>9218.0</td>\n",
       "      <td>10029.0</td>\n",
       "      <td>8049.0</td>\n",
       "      <td>8040.0</td>\n",
       "      <td>10059.0</td>\n",
       "      <td>0</td>\n",
       "    </tr>\n",
       "    <tr>\n",
       "      <th>29979</th>\n",
       "      <td>29980</td>\n",
       "      <td>180000.0</td>\n",
       "      <td>1</td>\n",
       "      <td>1</td>\n",
       "      <td>1</td>\n",
       "      <td>32</td>\n",
       "      <td>-2</td>\n",
       "      <td>-2</td>\n",
       "      <td>-2</td>\n",
       "      <td>-2</td>\n",
       "      <td>...</td>\n",
       "      <td>0.0</td>\n",
       "      <td>0.0</td>\n",
       "      <td>0.0</td>\n",
       "      <td>0.0</td>\n",
       "      <td>0.0</td>\n",
       "      <td>0.0</td>\n",
       "      <td>0.0</td>\n",
       "      <td>0.0</td>\n",
       "      <td>0.0</td>\n",
       "      <td>0</td>\n",
       "    </tr>\n",
       "    <tr>\n",
       "      <th>29980</th>\n",
       "      <td>29981</td>\n",
       "      <td>50000.0</td>\n",
       "      <td>1</td>\n",
       "      <td>3</td>\n",
       "      <td>2</td>\n",
       "      <td>42</td>\n",
       "      <td>0</td>\n",
       "      <td>0</td>\n",
       "      <td>0</td>\n",
       "      <td>0</td>\n",
       "      <td>...</td>\n",
       "      <td>50360.0</td>\n",
       "      <td>19971.0</td>\n",
       "      <td>19694.0</td>\n",
       "      <td>10000.0</td>\n",
       "      <td>4000.0</td>\n",
       "      <td>5000.0</td>\n",
       "      <td>3000.0</td>\n",
       "      <td>4500.0</td>\n",
       "      <td>2000.0</td>\n",
       "      <td>0</td>\n",
       "    </tr>\n",
       "    <tr>\n",
       "      <th>29981</th>\n",
       "      <td>29982</td>\n",
       "      <td>50000.0</td>\n",
       "      <td>1</td>\n",
       "      <td>2</td>\n",
       "      <td>1</td>\n",
       "      <td>44</td>\n",
       "      <td>1</td>\n",
       "      <td>2</td>\n",
       "      <td>2</td>\n",
       "      <td>2</td>\n",
       "      <td>...</td>\n",
       "      <td>28192.0</td>\n",
       "      <td>22676.0</td>\n",
       "      <td>14647.0</td>\n",
       "      <td>2300.0</td>\n",
       "      <td>1700.0</td>\n",
       "      <td>0.0</td>\n",
       "      <td>517.0</td>\n",
       "      <td>503.0</td>\n",
       "      <td>585.0</td>\n",
       "      <td>0</td>\n",
       "    </tr>\n",
       "    <tr>\n",
       "      <th>29982</th>\n",
       "      <td>29983</td>\n",
       "      <td>90000.0</td>\n",
       "      <td>1</td>\n",
       "      <td>2</td>\n",
       "      <td>1</td>\n",
       "      <td>36</td>\n",
       "      <td>0</td>\n",
       "      <td>0</td>\n",
       "      <td>0</td>\n",
       "      <td>0</td>\n",
       "      <td>...</td>\n",
       "      <td>11328.0</td>\n",
       "      <td>12036.0</td>\n",
       "      <td>14329.0</td>\n",
       "      <td>1500.0</td>\n",
       "      <td>1500.0</td>\n",
       "      <td>1500.0</td>\n",
       "      <td>1200.0</td>\n",
       "      <td>2500.0</td>\n",
       "      <td>0.0</td>\n",
       "      <td>1</td>\n",
       "    </tr>\n",
       "    <tr>\n",
       "      <th>29983</th>\n",
       "      <td>29984</td>\n",
       "      <td>20000.0</td>\n",
       "      <td>1</td>\n",
       "      <td>2</td>\n",
       "      <td>1</td>\n",
       "      <td>44</td>\n",
       "      <td>-2</td>\n",
       "      <td>-2</td>\n",
       "      <td>-2</td>\n",
       "      <td>-2</td>\n",
       "      <td>...</td>\n",
       "      <td>2882.0</td>\n",
       "      <td>9235.0</td>\n",
       "      <td>1719.0</td>\n",
       "      <td>2890.0</td>\n",
       "      <td>2720.0</td>\n",
       "      <td>2890.0</td>\n",
       "      <td>9263.0</td>\n",
       "      <td>1824.0</td>\n",
       "      <td>1701.0</td>\n",
       "      <td>0</td>\n",
       "    </tr>\n",
       "    <tr>\n",
       "      <th>29984</th>\n",
       "      <td>29985</td>\n",
       "      <td>30000.0</td>\n",
       "      <td>1</td>\n",
       "      <td>2</td>\n",
       "      <td>2</td>\n",
       "      <td>38</td>\n",
       "      <td>-1</td>\n",
       "      <td>-1</td>\n",
       "      <td>-2</td>\n",
       "      <td>-1</td>\n",
       "      <td>...</td>\n",
       "      <td>1993.0</td>\n",
       "      <td>1907.0</td>\n",
       "      <td>3319.0</td>\n",
       "      <td>923.0</td>\n",
       "      <td>2977.0</td>\n",
       "      <td>1999.0</td>\n",
       "      <td>3057.0</td>\n",
       "      <td>3319.0</td>\n",
       "      <td>1000.0</td>\n",
       "      <td>0</td>\n",
       "    </tr>\n",
       "    <tr>\n",
       "      <th>29985</th>\n",
       "      <td>29986</td>\n",
       "      <td>240000.0</td>\n",
       "      <td>1</td>\n",
       "      <td>1</td>\n",
       "      <td>2</td>\n",
       "      <td>30</td>\n",
       "      <td>-2</td>\n",
       "      <td>-2</td>\n",
       "      <td>-2</td>\n",
       "      <td>-2</td>\n",
       "      <td>...</td>\n",
       "      <td>0.0</td>\n",
       "      <td>0.0</td>\n",
       "      <td>0.0</td>\n",
       "      <td>0.0</td>\n",
       "      <td>0.0</td>\n",
       "      <td>0.0</td>\n",
       "      <td>0.0</td>\n",
       "      <td>0.0</td>\n",
       "      <td>0.0</td>\n",
       "      <td>0</td>\n",
       "    </tr>\n",
       "    <tr>\n",
       "      <th>29986</th>\n",
       "      <td>29987</td>\n",
       "      <td>360000.0</td>\n",
       "      <td>1</td>\n",
       "      <td>1</td>\n",
       "      <td>2</td>\n",
       "      <td>35</td>\n",
       "      <td>-1</td>\n",
       "      <td>-1</td>\n",
       "      <td>-2</td>\n",
       "      <td>-2</td>\n",
       "      <td>...</td>\n",
       "      <td>0.0</td>\n",
       "      <td>0.0</td>\n",
       "      <td>0.0</td>\n",
       "      <td>0.0</td>\n",
       "      <td>0.0</td>\n",
       "      <td>0.0</td>\n",
       "      <td>0.0</td>\n",
       "      <td>0.0</td>\n",
       "      <td>0.0</td>\n",
       "      <td>0</td>\n",
       "    </tr>\n",
       "    <tr>\n",
       "      <th>29987</th>\n",
       "      <td>29988</td>\n",
       "      <td>130000.0</td>\n",
       "      <td>1</td>\n",
       "      <td>1</td>\n",
       "      <td>2</td>\n",
       "      <td>34</td>\n",
       "      <td>0</td>\n",
       "      <td>0</td>\n",
       "      <td>0</td>\n",
       "      <td>0</td>\n",
       "      <td>...</td>\n",
       "      <td>108047.0</td>\n",
       "      <td>93708.0</td>\n",
       "      <td>97353.0</td>\n",
       "      <td>3000.0</td>\n",
       "      <td>2000.0</td>\n",
       "      <td>93000.0</td>\n",
       "      <td>4000.0</td>\n",
       "      <td>5027.0</td>\n",
       "      <td>4005.0</td>\n",
       "      <td>0</td>\n",
       "    </tr>\n",
       "    <tr>\n",
       "      <th>29988</th>\n",
       "      <td>29989</td>\n",
       "      <td>250000.0</td>\n",
       "      <td>1</td>\n",
       "      <td>1</td>\n",
       "      <td>1</td>\n",
       "      <td>34</td>\n",
       "      <td>0</td>\n",
       "      <td>0</td>\n",
       "      <td>0</td>\n",
       "      <td>0</td>\n",
       "      <td>...</td>\n",
       "      <td>245750.0</td>\n",
       "      <td>175005.0</td>\n",
       "      <td>179687.0</td>\n",
       "      <td>65000.0</td>\n",
       "      <td>8800.0</td>\n",
       "      <td>9011.0</td>\n",
       "      <td>6000.0</td>\n",
       "      <td>7000.0</td>\n",
       "      <td>6009.0</td>\n",
       "      <td>0</td>\n",
       "    </tr>\n",
       "    <tr>\n",
       "      <th>29989</th>\n",
       "      <td>29990</td>\n",
       "      <td>150000.0</td>\n",
       "      <td>1</td>\n",
       "      <td>1</td>\n",
       "      <td>2</td>\n",
       "      <td>35</td>\n",
       "      <td>-1</td>\n",
       "      <td>-1</td>\n",
       "      <td>-1</td>\n",
       "      <td>-1</td>\n",
       "      <td>...</td>\n",
       "      <td>780.0</td>\n",
       "      <td>0.0</td>\n",
       "      <td>0.0</td>\n",
       "      <td>9054.0</td>\n",
       "      <td>0.0</td>\n",
       "      <td>783.0</td>\n",
       "      <td>0.0</td>\n",
       "      <td>0.0</td>\n",
       "      <td>0.0</td>\n",
       "      <td>0</td>\n",
       "    </tr>\n",
       "    <tr>\n",
       "      <th>29990</th>\n",
       "      <td>29991</td>\n",
       "      <td>140000.0</td>\n",
       "      <td>1</td>\n",
       "      <td>2</td>\n",
       "      <td>1</td>\n",
       "      <td>41</td>\n",
       "      <td>0</td>\n",
       "      <td>0</td>\n",
       "      <td>0</td>\n",
       "      <td>0</td>\n",
       "      <td>...</td>\n",
       "      <td>138262.0</td>\n",
       "      <td>49675.0</td>\n",
       "      <td>46121.0</td>\n",
       "      <td>6000.0</td>\n",
       "      <td>7000.0</td>\n",
       "      <td>4228.0</td>\n",
       "      <td>1505.0</td>\n",
       "      <td>2000.0</td>\n",
       "      <td>2000.0</td>\n",
       "      <td>0</td>\n",
       "    </tr>\n",
       "    <tr>\n",
       "      <th>29991</th>\n",
       "      <td>29992</td>\n",
       "      <td>210000.0</td>\n",
       "      <td>1</td>\n",
       "      <td>2</td>\n",
       "      <td>1</td>\n",
       "      <td>34</td>\n",
       "      <td>3</td>\n",
       "      <td>2</td>\n",
       "      <td>2</td>\n",
       "      <td>2</td>\n",
       "      <td>...</td>\n",
       "      <td>2500.0</td>\n",
       "      <td>2500.0</td>\n",
       "      <td>2500.0</td>\n",
       "      <td>0.0</td>\n",
       "      <td>0.0</td>\n",
       "      <td>0.0</td>\n",
       "      <td>0.0</td>\n",
       "      <td>0.0</td>\n",
       "      <td>0.0</td>\n",
       "      <td>1</td>\n",
       "    </tr>\n",
       "    <tr>\n",
       "      <th>29992</th>\n",
       "      <td>29993</td>\n",
       "      <td>10000.0</td>\n",
       "      <td>1</td>\n",
       "      <td>3</td>\n",
       "      <td>1</td>\n",
       "      <td>43</td>\n",
       "      <td>0</td>\n",
       "      <td>0</td>\n",
       "      <td>0</td>\n",
       "      <td>-2</td>\n",
       "      <td>...</td>\n",
       "      <td>0.0</td>\n",
       "      <td>0.0</td>\n",
       "      <td>0.0</td>\n",
       "      <td>2000.0</td>\n",
       "      <td>0.0</td>\n",
       "      <td>0.0</td>\n",
       "      <td>0.0</td>\n",
       "      <td>0.0</td>\n",
       "      <td>0.0</td>\n",
       "      <td>0</td>\n",
       "    </tr>\n",
       "    <tr>\n",
       "      <th>29993</th>\n",
       "      <td>29994</td>\n",
       "      <td>100000.0</td>\n",
       "      <td>1</td>\n",
       "      <td>1</td>\n",
       "      <td>2</td>\n",
       "      <td>38</td>\n",
       "      <td>0</td>\n",
       "      <td>-1</td>\n",
       "      <td>-1</td>\n",
       "      <td>0</td>\n",
       "      <td>...</td>\n",
       "      <td>70626.0</td>\n",
       "      <td>69473.0</td>\n",
       "      <td>55004.0</td>\n",
       "      <td>2000.0</td>\n",
       "      <td>111784.0</td>\n",
       "      <td>4000.0</td>\n",
       "      <td>3000.0</td>\n",
       "      <td>2000.0</td>\n",
       "      <td>2000.0</td>\n",
       "      <td>0</td>\n",
       "    </tr>\n",
       "    <tr>\n",
       "      <th>29994</th>\n",
       "      <td>29995</td>\n",
       "      <td>80000.0</td>\n",
       "      <td>1</td>\n",
       "      <td>2</td>\n",
       "      <td>2</td>\n",
       "      <td>34</td>\n",
       "      <td>2</td>\n",
       "      <td>2</td>\n",
       "      <td>2</td>\n",
       "      <td>2</td>\n",
       "      <td>...</td>\n",
       "      <td>77519.0</td>\n",
       "      <td>82607.0</td>\n",
       "      <td>81158.0</td>\n",
       "      <td>7000.0</td>\n",
       "      <td>3500.0</td>\n",
       "      <td>0.0</td>\n",
       "      <td>7000.0</td>\n",
       "      <td>0.0</td>\n",
       "      <td>4000.0</td>\n",
       "      <td>1</td>\n",
       "    </tr>\n",
       "    <tr>\n",
       "      <th>29995</th>\n",
       "      <td>29996</td>\n",
       "      <td>220000.0</td>\n",
       "      <td>1</td>\n",
       "      <td>3</td>\n",
       "      <td>1</td>\n",
       "      <td>39</td>\n",
       "      <td>0</td>\n",
       "      <td>0</td>\n",
       "      <td>0</td>\n",
       "      <td>0</td>\n",
       "      <td>...</td>\n",
       "      <td>88004.0</td>\n",
       "      <td>31237.0</td>\n",
       "      <td>15980.0</td>\n",
       "      <td>8500.0</td>\n",
       "      <td>20000.0</td>\n",
       "      <td>5003.0</td>\n",
       "      <td>3047.0</td>\n",
       "      <td>5000.0</td>\n",
       "      <td>1000.0</td>\n",
       "      <td>0</td>\n",
       "    </tr>\n",
       "    <tr>\n",
       "      <th>29996</th>\n",
       "      <td>29997</td>\n",
       "      <td>150000.0</td>\n",
       "      <td>1</td>\n",
       "      <td>3</td>\n",
       "      <td>2</td>\n",
       "      <td>43</td>\n",
       "      <td>-1</td>\n",
       "      <td>-1</td>\n",
       "      <td>-1</td>\n",
       "      <td>-1</td>\n",
       "      <td>...</td>\n",
       "      <td>8979.0</td>\n",
       "      <td>5190.0</td>\n",
       "      <td>0.0</td>\n",
       "      <td>1837.0</td>\n",
       "      <td>3526.0</td>\n",
       "      <td>8998.0</td>\n",
       "      <td>129.0</td>\n",
       "      <td>0.0</td>\n",
       "      <td>0.0</td>\n",
       "      <td>0</td>\n",
       "    </tr>\n",
       "    <tr>\n",
       "      <th>29997</th>\n",
       "      <td>29998</td>\n",
       "      <td>30000.0</td>\n",
       "      <td>1</td>\n",
       "      <td>2</td>\n",
       "      <td>2</td>\n",
       "      <td>37</td>\n",
       "      <td>4</td>\n",
       "      <td>3</td>\n",
       "      <td>2</td>\n",
       "      <td>-1</td>\n",
       "      <td>...</td>\n",
       "      <td>20878.0</td>\n",
       "      <td>20582.0</td>\n",
       "      <td>19357.0</td>\n",
       "      <td>0.0</td>\n",
       "      <td>0.0</td>\n",
       "      <td>22000.0</td>\n",
       "      <td>4200.0</td>\n",
       "      <td>2000.0</td>\n",
       "      <td>3100.0</td>\n",
       "      <td>1</td>\n",
       "    </tr>\n",
       "    <tr>\n",
       "      <th>29998</th>\n",
       "      <td>29999</td>\n",
       "      <td>80000.0</td>\n",
       "      <td>1</td>\n",
       "      <td>3</td>\n",
       "      <td>1</td>\n",
       "      <td>41</td>\n",
       "      <td>1</td>\n",
       "      <td>-1</td>\n",
       "      <td>0</td>\n",
       "      <td>0</td>\n",
       "      <td>...</td>\n",
       "      <td>52774.0</td>\n",
       "      <td>11855.0</td>\n",
       "      <td>48944.0</td>\n",
       "      <td>85900.0</td>\n",
       "      <td>3409.0</td>\n",
       "      <td>1178.0</td>\n",
       "      <td>1926.0</td>\n",
       "      <td>52964.0</td>\n",
       "      <td>1804.0</td>\n",
       "      <td>1</td>\n",
       "    </tr>\n",
       "    <tr>\n",
       "      <th>29999</th>\n",
       "      <td>30000</td>\n",
       "      <td>50000.0</td>\n",
       "      <td>1</td>\n",
       "      <td>2</td>\n",
       "      <td>1</td>\n",
       "      <td>46</td>\n",
       "      <td>0</td>\n",
       "      <td>0</td>\n",
       "      <td>0</td>\n",
       "      <td>0</td>\n",
       "      <td>...</td>\n",
       "      <td>36535.0</td>\n",
       "      <td>32428.0</td>\n",
       "      <td>15313.0</td>\n",
       "      <td>2078.0</td>\n",
       "      <td>1800.0</td>\n",
       "      <td>1430.0</td>\n",
       "      <td>1000.0</td>\n",
       "      <td>1000.0</td>\n",
       "      <td>1000.0</td>\n",
       "      <td>1</td>\n",
       "    </tr>\n",
       "  </tbody>\n",
       "</table>\n",
       "<p>30000 rows × 25 columns</p>\n",
       "</div>"
      ],
      "text/plain": [
       "          ID  LIMIT_BAL  SEX  EDUCATION  MARRIAGE  AGE  PAY_0  PAY_2  PAY_3  \\\n",
       "0          1    20000.0    2          2         1   24      2      2     -1   \n",
       "1          2   120000.0    2          2         2   26     -1      2      0   \n",
       "2          3    90000.0    2          2         2   34      0      0      0   \n",
       "3          4    50000.0    2          2         1   37      0      0      0   \n",
       "4          5    50000.0    1          2         1   57     -1      0     -1   \n",
       "5          6    50000.0    1          1         2   37      0      0      0   \n",
       "6          7   500000.0    1          1         2   29      0      0      0   \n",
       "7          8   100000.0    2          2         2   23      0     -1     -1   \n",
       "8          9   140000.0    2          3         1   28      0      0      2   \n",
       "9         10    20000.0    1          3         2   35     -2     -2     -2   \n",
       "10        11   200000.0    2          3         2   34      0      0      2   \n",
       "11        12   260000.0    2          1         2   51     -1     -1     -1   \n",
       "12        13   630000.0    2          2         2   41     -1      0     -1   \n",
       "13        14    70000.0    1          2         2   30      1      2      2   \n",
       "14        15   250000.0    1          1         2   29      0      0      0   \n",
       "15        16    50000.0    2          3         3   23      1      2      0   \n",
       "16        17    20000.0    1          1         2   24      0      0      2   \n",
       "17        18   320000.0    1          1         1   49      0      0      0   \n",
       "18        19   360000.0    2          1         1   49      1     -2     -2   \n",
       "19        20   180000.0    2          1         2   29      1     -2     -2   \n",
       "20        21   130000.0    2          3         2   39      0      0      0   \n",
       "21        22   120000.0    2          2         1   39     -1     -1     -1   \n",
       "22        23    70000.0    2          2         2   26      2      0      0   \n",
       "23        24   450000.0    2          1         1   40     -2     -2     -2   \n",
       "24        25    90000.0    1          1         2   23      0      0      0   \n",
       "25        26    50000.0    1          3         2   23      0      0      0   \n",
       "26        27    60000.0    1          1         2   27      1     -2     -1   \n",
       "27        28    50000.0    2          3         2   30      0      0      0   \n",
       "28        29    50000.0    2          3         1   47     -1     -1     -1   \n",
       "29        30    50000.0    1          1         2   26      0      0      0   \n",
       "...      ...        ...  ...        ...       ...  ...    ...    ...    ...   \n",
       "29970  29971   360000.0    1          1         1   34     -1     -1     -1   \n",
       "29971  29972    80000.0    1          3         1   36      0      0      0   \n",
       "29972  29973   190000.0    1          1         1   37      0      0      0   \n",
       "29973  29974   230000.0    1          2         1   35      1     -2     -2   \n",
       "29974  29975    50000.0    1          2         1   37      1      2      2   \n",
       "29975  29976   220000.0    1          2         1   41      0      0     -1   \n",
       "29976  29977    40000.0    1          2         2   47      2      2      3   \n",
       "29977  29978   420000.0    1          1         2   34      0      0      0   \n",
       "29978  29979   310000.0    1          2         1   39      0      0      0   \n",
       "29979  29980   180000.0    1          1         1   32     -2     -2     -2   \n",
       "29980  29981    50000.0    1          3         2   42      0      0      0   \n",
       "29981  29982    50000.0    1          2         1   44      1      2      2   \n",
       "29982  29983    90000.0    1          2         1   36      0      0      0   \n",
       "29983  29984    20000.0    1          2         1   44     -2     -2     -2   \n",
       "29984  29985    30000.0    1          2         2   38     -1     -1     -2   \n",
       "29985  29986   240000.0    1          1         2   30     -2     -2     -2   \n",
       "29986  29987   360000.0    1          1         2   35     -1     -1     -2   \n",
       "29987  29988   130000.0    1          1         2   34      0      0      0   \n",
       "29988  29989   250000.0    1          1         1   34      0      0      0   \n",
       "29989  29990   150000.0    1          1         2   35     -1     -1     -1   \n",
       "29990  29991   140000.0    1          2         1   41      0      0      0   \n",
       "29991  29992   210000.0    1          2         1   34      3      2      2   \n",
       "29992  29993    10000.0    1          3         1   43      0      0      0   \n",
       "29993  29994   100000.0    1          1         2   38      0     -1     -1   \n",
       "29994  29995    80000.0    1          2         2   34      2      2      2   \n",
       "29995  29996   220000.0    1          3         1   39      0      0      0   \n",
       "29996  29997   150000.0    1          3         2   43     -1     -1     -1   \n",
       "29997  29998    30000.0    1          2         2   37      4      3      2   \n",
       "29998  29999    80000.0    1          3         1   41      1     -1      0   \n",
       "29999  30000    50000.0    1          2         1   46      0      0      0   \n",
       "\n",
       "       PAY_4             ...              BILL_AMT4  BILL_AMT5  BILL_AMT6  \\\n",
       "0         -1             ...                    0.0        0.0        0.0   \n",
       "1          0             ...                 3272.0     3455.0     3261.0   \n",
       "2          0             ...                14331.0    14948.0    15549.0   \n",
       "3          0             ...                28314.0    28959.0    29547.0   \n",
       "4          0             ...                20940.0    19146.0    19131.0   \n",
       "5          0             ...                19394.0    19619.0    20024.0   \n",
       "6          0             ...               542653.0   483003.0   473944.0   \n",
       "7          0             ...                  221.0     -159.0      567.0   \n",
       "8          0             ...                12211.0    11793.0     3719.0   \n",
       "9         -2             ...                    0.0    13007.0    13912.0   \n",
       "10         0             ...                 2513.0     1828.0     3731.0   \n",
       "11        -1             ...                 8517.0    22287.0    13668.0   \n",
       "12        -1             ...                 6500.0     6500.0     2870.0   \n",
       "13         0             ...                66782.0    36137.0    36894.0   \n",
       "14         0             ...                59696.0    56875.0    55512.0   \n",
       "15         0             ...                28771.0    29531.0    30211.0   \n",
       "16         2             ...                18338.0    17905.0    19104.0   \n",
       "17        -1             ...                70074.0     5856.0   195599.0   \n",
       "18        -2             ...                    0.0        0.0        0.0   \n",
       "19        -2             ...                    0.0        0.0        0.0   \n",
       "20         0             ...                20616.0    11802.0      930.0   \n",
       "21        -1             ...                    0.0      632.0      316.0   \n",
       "22         2             ...                44006.0    46905.0    46012.0   \n",
       "23        -2             ...                  560.0        0.0        0.0   \n",
       "24        -1             ...                 5398.0     6360.0     8292.0   \n",
       "25         0             ...                28967.0    29829.0    30046.0   \n",
       "26        -1             ...                  -57.0      127.0     -189.0   \n",
       "27         0             ...                17878.0    18931.0    19617.0   \n",
       "28        -1             ...                 2040.0    30430.0      257.0   \n",
       "29         0             ...                17907.0    18375.0    11400.0   \n",
       "...      ...             ...                    ...        ...        ...   \n",
       "29970      0             ...                49005.0     8676.0    19487.0   \n",
       "29971      0             ...                69674.0    71070.0    73612.0   \n",
       "29972      0             ...                29223.0    19616.0   148482.0   \n",
       "29973     -2             ...                    0.0        0.0        0.0   \n",
       "29974      2             ...                 2846.0     1585.0     1324.0   \n",
       "29975     -1             ...                 5924.0     1759.0     1824.0   \n",
       "29976      2             ...                51259.0    47151.0    46934.0   \n",
       "29977      0             ...               141695.0   144839.0   147954.0   \n",
       "29978      0             ...               219409.0   216540.0   210675.0   \n",
       "29979     -2             ...                    0.0        0.0        0.0   \n",
       "29980      0             ...                50360.0    19971.0    19694.0   \n",
       "29981      2             ...                28192.0    22676.0    14647.0   \n",
       "29982      0             ...                11328.0    12036.0    14329.0   \n",
       "29983     -2             ...                 2882.0     9235.0     1719.0   \n",
       "29984     -1             ...                 1993.0     1907.0     3319.0   \n",
       "29985     -2             ...                    0.0        0.0        0.0   \n",
       "29986     -2             ...                    0.0        0.0        0.0   \n",
       "29987      0             ...               108047.0    93708.0    97353.0   \n",
       "29988      0             ...               245750.0   175005.0   179687.0   \n",
       "29989     -1             ...                  780.0        0.0        0.0   \n",
       "29990      0             ...               138262.0    49675.0    46121.0   \n",
       "29991      2             ...                 2500.0     2500.0     2500.0   \n",
       "29992     -2             ...                    0.0        0.0        0.0   \n",
       "29993      0             ...                70626.0    69473.0    55004.0   \n",
       "29994      2             ...                77519.0    82607.0    81158.0   \n",
       "29995      0             ...                88004.0    31237.0    15980.0   \n",
       "29996     -1             ...                 8979.0     5190.0        0.0   \n",
       "29997     -1             ...                20878.0    20582.0    19357.0   \n",
       "29998      0             ...                52774.0    11855.0    48944.0   \n",
       "29999      0             ...                36535.0    32428.0    15313.0   \n",
       "\n",
       "       PAY_AMT1  PAY_AMT2  PAY_AMT3  PAY_AMT4  PAY_AMT5  PAY_AMT6  \\\n",
       "0           0.0     689.0       0.0       0.0       0.0       0.0   \n",
       "1           0.0    1000.0    1000.0    1000.0       0.0    2000.0   \n",
       "2        1518.0    1500.0    1000.0    1000.0    1000.0    5000.0   \n",
       "3        2000.0    2019.0    1200.0    1100.0    1069.0    1000.0   \n",
       "4        2000.0   36681.0   10000.0    9000.0     689.0     679.0   \n",
       "5        2500.0    1815.0     657.0    1000.0    1000.0     800.0   \n",
       "6       55000.0   40000.0   38000.0   20239.0   13750.0   13770.0   \n",
       "7         380.0     601.0       0.0     581.0    1687.0    1542.0   \n",
       "8        3329.0       0.0     432.0    1000.0    1000.0    1000.0   \n",
       "9           0.0       0.0       0.0   13007.0    1122.0       0.0   \n",
       "10       2306.0      12.0      50.0     300.0    3738.0      66.0   \n",
       "11      21818.0    9966.0    8583.0   22301.0       0.0    3640.0   \n",
       "12       1000.0    6500.0    6500.0    6500.0    2870.0       0.0   \n",
       "13       3200.0       0.0    3000.0    3000.0    1500.0       0.0   \n",
       "14       3000.0    3000.0    3000.0    3000.0    3000.0    3000.0   \n",
       "15          0.0    1500.0    1100.0    1200.0    1300.0    1100.0   \n",
       "16       3200.0       0.0    1500.0       0.0    1650.0       0.0   \n",
       "17      10358.0   10000.0   75940.0   20000.0  195599.0   50000.0   \n",
       "18          0.0       0.0       0.0       0.0       0.0       0.0   \n",
       "19          0.0       0.0       0.0       0.0       0.0       0.0   \n",
       "20       3000.0    1537.0    1000.0    2000.0     930.0   33764.0   \n",
       "21        316.0     316.0       0.0     632.0     316.0       0.0   \n",
       "22       2007.0    3582.0       0.0    3601.0       0.0    1820.0   \n",
       "23      19428.0    1473.0     560.0       0.0       0.0    1128.0   \n",
       "24       5757.0       0.0    5398.0    1200.0    2045.0    2000.0   \n",
       "25       1973.0    1426.0    1001.0    1432.0    1062.0     997.0   \n",
       "26          0.0    1000.0       0.0     500.0       0.0    1000.0   \n",
       "27       1300.0    1300.0    1000.0    1500.0    1000.0    1012.0   \n",
       "28       3415.0    3421.0    2044.0   30430.0     257.0       0.0   \n",
       "29       1500.0    1500.0    1000.0    1000.0    1600.0       0.0   \n",
       "...         ...       ...       ...       ...       ...       ...   \n",
       "29970   52951.0   64535.0    8907.0      53.0   19584.0   16080.0   \n",
       "29971    2395.0    2500.0    2530.0    2556.0    3700.0    3000.0   \n",
       "29972    2000.0    3869.0   25128.0   10115.0  148482.0    4800.0   \n",
       "29973       0.0       0.0       0.0       0.0       0.0       0.0   \n",
       "29974       0.0    3000.0       0.0       0.0    1000.0    1000.0   \n",
       "29975    8840.0    6643.0    5924.0    1759.0    1824.0    7022.0   \n",
       "29976    4000.0       0.0    2000.0       0.0    3520.0       0.0   \n",
       "29977    7000.0    7000.0    5500.0    5500.0    5600.0    5000.0   \n",
       "29978   10029.0    9218.0   10029.0    8049.0    8040.0   10059.0   \n",
       "29979       0.0       0.0       0.0       0.0       0.0       0.0   \n",
       "29980   10000.0    4000.0    5000.0    3000.0    4500.0    2000.0   \n",
       "29981    2300.0    1700.0       0.0     517.0     503.0     585.0   \n",
       "29982    1500.0    1500.0    1500.0    1200.0    2500.0       0.0   \n",
       "29983    2890.0    2720.0    2890.0    9263.0    1824.0    1701.0   \n",
       "29984     923.0    2977.0    1999.0    3057.0    3319.0    1000.0   \n",
       "29985       0.0       0.0       0.0       0.0       0.0       0.0   \n",
       "29986       0.0       0.0       0.0       0.0       0.0       0.0   \n",
       "29987    3000.0    2000.0   93000.0    4000.0    5027.0    4005.0   \n",
       "29988   65000.0    8800.0    9011.0    6000.0    7000.0    6009.0   \n",
       "29989    9054.0       0.0     783.0       0.0       0.0       0.0   \n",
       "29990    6000.0    7000.0    4228.0    1505.0    2000.0    2000.0   \n",
       "29991       0.0       0.0       0.0       0.0       0.0       0.0   \n",
       "29992    2000.0       0.0       0.0       0.0       0.0       0.0   \n",
       "29993    2000.0  111784.0    4000.0    3000.0    2000.0    2000.0   \n",
       "29994    7000.0    3500.0       0.0    7000.0       0.0    4000.0   \n",
       "29995    8500.0   20000.0    5003.0    3047.0    5000.0    1000.0   \n",
       "29996    1837.0    3526.0    8998.0     129.0       0.0       0.0   \n",
       "29997       0.0       0.0   22000.0    4200.0    2000.0    3100.0   \n",
       "29998   85900.0    3409.0    1178.0    1926.0   52964.0    1804.0   \n",
       "29999    2078.0    1800.0    1430.0    1000.0    1000.0    1000.0   \n",
       "\n",
       "       default.payment.next.month  \n",
       "0                               1  \n",
       "1                               1  \n",
       "2                               0  \n",
       "3                               0  \n",
       "4                               0  \n",
       "5                               0  \n",
       "6                               0  \n",
       "7                               0  \n",
       "8                               0  \n",
       "9                               0  \n",
       "10                              0  \n",
       "11                              0  \n",
       "12                              0  \n",
       "13                              1  \n",
       "14                              0  \n",
       "15                              0  \n",
       "16                              1  \n",
       "17                              0  \n",
       "18                              0  \n",
       "19                              0  \n",
       "20                              0  \n",
       "21                              1  \n",
       "22                              1  \n",
       "23                              1  \n",
       "24                              0  \n",
       "25                              0  \n",
       "26                              1  \n",
       "27                              0  \n",
       "28                              0  \n",
       "29                              0  \n",
       "...                           ...  \n",
       "29970                           0  \n",
       "29971                           0  \n",
       "29972                           0  \n",
       "29973                           1  \n",
       "29974                           1  \n",
       "29975                           0  \n",
       "29976                           1  \n",
       "29977                           0  \n",
       "29978                           0  \n",
       "29979                           0  \n",
       "29980                           0  \n",
       "29981                           0  \n",
       "29982                           1  \n",
       "29983                           0  \n",
       "29984                           0  \n",
       "29985                           0  \n",
       "29986                           0  \n",
       "29987                           0  \n",
       "29988                           0  \n",
       "29989                           0  \n",
       "29990                           0  \n",
       "29991                           1  \n",
       "29992                           0  \n",
       "29993                           0  \n",
       "29994                           1  \n",
       "29995                           0  \n",
       "29996                           0  \n",
       "29997                           1  \n",
       "29998                           1  \n",
       "29999                           1  \n",
       "\n",
       "[30000 rows x 25 columns]"
      ]
     },
     "execution_count": 4,
     "metadata": {},
     "output_type": "execute_result"
    }
   ],
   "source": [
    "cc_df"
   ]
  },
  {
   "cell_type": "code",
   "execution_count": 5,
   "metadata": {},
   "outputs": [
    {
     "data": {
      "text/plain": [
       "count      30000.000000\n",
       "mean      167484.322667\n",
       "std       129747.661567\n",
       "min        10000.000000\n",
       "25%        50000.000000\n",
       "50%       140000.000000\n",
       "75%       240000.000000\n",
       "max      1000000.000000\n",
       "Name: LIMIT_BAL, dtype: float64"
      ]
     },
     "execution_count": 5,
     "metadata": {},
     "output_type": "execute_result"
    }
   ],
   "source": [
    "cc_df['AGE'].aggregate(np.mean)\n",
    "cc_df['AGE'].value_counts()\n",
    "#most of the users are aged 29 with the highest # of users. The user group is mostly from age 25 - 35\n",
    "cc_df['AGE'].value_counts().head(10)\n",
    "#1 is male and 2 = female \n",
    "cc_df[['SEX', 'default.payment.next.month']]\n",
    "#default chances are 6636 compared to 23364 customers not defaulting \n",
    "cc_df['default.payment.next.month'].value_counts()\n",
    "# female users = 18,112 compared to 11,888 male users \n",
    "cc_df['SEX'].value_counts()\n",
    "#average amount of limits \n",
    "cc_df['LIMIT_BAL'].aggregate(np.mean)\n",
    "# median amount of limits \n",
    "cc_df['LIMIT_BAL'].aggregate(np.median)\n",
    "# max limit for any customer is 1,000,000 \n",
    "cc_df['LIMIT_BAL'].aggregate(np.max)\n",
    "# min limit for any customer \n",
    "cc_df['LIMIT_BAL'].aggregate(np.min)\n",
    "#median limit for any customer \n",
    "cc_df['LIMIT_BAL'].aggregate(np.median)\n",
    "#Standard deviation is quite large....? \n",
    "cc_df['LIMIT_BAL'].aggregate(np.std)\n",
    "# majority of customers have 50,000 as their limits \n",
    "cc_df['LIMIT_BAL'].value_counts().head(10)\n",
    "\n",
    "cc_df['LIMIT_BAL'].describe()"
   ]
  },
  {
   "cell_type": "code",
   "execution_count": 6,
   "metadata": {},
   "outputs": [
    {
     "data": {
      "text/plain": [
       "0    23364\n",
       "1     6636\n",
       "Name: default.payment.next.month, dtype: int64"
      ]
     },
     "execution_count": 6,
     "metadata": {},
     "output_type": "execute_result"
    }
   ],
   "source": [
    "default_graph = cc_df['default.payment.next.month'].value_counts()\n",
    "default_graph"
   ]
  },
  {
   "cell_type": "code",
   "execution_count": 7,
   "metadata": {},
   "outputs": [
    {
     "data": {
      "image/png": "[encoded data removed]",
      "text/plain": [
       "<Figure size 432x288 with 1 Axes>"
      ]
     },
     "metadata": {
      "needs_background": "light"
     },
     "output_type": "display_data"
    }
   ],
   "source": [
    "height = default_graph\n",
    "bars = ('Non-Default Counts', 'Default Counts')\n",
    "y_pos = np.arange(len(bars))\n",
    "plt.bar(y_pos, height, color = 'green')\n",
    "plt.title('Overall Defaults vs. Non-Defaults')\n",
    "plt.xlabel('Default v. Non-Defaults')\n",
    "plt.ylabel('# of Defaults')\n",
    "plt.xticks(y_pos, bars)\n",
    "plt.show()\n"
   ]
  },
  {
   "cell_type": "markdown",
   "metadata": {},
   "source": [
    "# Gender Based Analysis: \n",
    "\n",
    "Here I will talk more in regards to gender and how it plays into the default rates. The majority of customers are female customers (18,112) compared to (11,888) male customers. The first analysis, I did was look at the central tendency of the default rates for each gender:\n",
    "\n",
    "Female Statistics: \n",
    "\n",
    "    # of Female Customers: 18,112 \n",
    "    Mean age: 35 \n",
    "    Mean Limit: 170,086\n",
    "    Standard Deviation of Limits: 125,231\n",
    "    Default Percentage: .2077\n",
    "    Standard Deviation of Default: 0.405 \n",
    "    \n",
    "Male Statistics: \n",
    "\n",
    "    # of Male Customers: 11,888 \n",
    "    Mean age: 36\n",
    "    Mean Limit: 163,519\n",
    "    Standard Deviation of Limits: 136,250\n",
    "    Default Percentage: .2417\n",
    "    Standard Deviation of Default: 0.428\n",
    "\n",
    "An independent sampels t-test was used to check if the data is statistically relevant. \n",
    "\n",
    "    Diff in Standard Deviation: \n",
    "    Sample size = 30,000\n",
    "    Standard Error = 0.003405332662389708\n",
    "    Diff in Std Deviation: 0.033909465375304954\n",
    "    T-Value: 9.95775412775938 \n",
    "    P-Value: 0.000000000007562495588453789\n",
    "\n",
    "\n",
    " "
   ]
  },
  {
   "cell_type": "code",
   "execution_count": 8,
   "metadata": {},
   "outputs": [
    {
     "name": "stdout",
     "output_type": "stream",
     "text": [
      "True     18112\n",
      "False    11888\n",
      "Name: SEX, dtype: int64\n"
     ]
    },
    {
     "data": {
      "image/png": "[encoded data removed]",
      "text/plain": [
       "<Figure size 432x288 with 1 Axes>"
      ]
     },
     "metadata": {
      "needs_background": "light"
     },
     "output_type": "display_data"
    }
   ],
   "source": [
    "fem = cc_df['SEX'] == 2 \n",
    "male = cc_df['SEX'] == 1\n",
    "fem_count = fem.value_counts()\n",
    "print(fem_count)\n",
    "height = fem_count\n",
    "bars = ('Female', 'Male')\n",
    "y_pos = np.arange(len(bars))\n",
    "plt.bar(y_pos, height, color = 'red')\n",
    "plt.title('Male and Female Customer Count')\n",
    "plt.xlabel ('Gender of Customers')\n",
    "plt.ylabel('Count of Customers')\n",
    "plt.xticks(y_pos, bars)\n",
    "plt.show()\n"
   ]
  },
  {
   "cell_type": "code",
   "execution_count": 9,
   "metadata": {},
   "outputs": [],
   "source": [
    "fem_stats = cc_df['SEX'] == 2"
   ]
  },
  {
   "cell_type": "code",
   "execution_count": 10,
   "metadata": {},
   "outputs": [
    {
     "data": {
      "text/plain": [
       "count    11888.000000\n",
       "mean         0.241672\n",
       "std          0.428115\n",
       "min          0.000000\n",
       "25%          0.000000\n",
       "50%          0.000000\n",
       "75%          0.000000\n",
       "max          1.000000\n",
       "Name: default.payment.next.month, dtype: float64"
      ]
     },
     "execution_count": 10,
     "metadata": {},
     "output_type": "execute_result"
    }
   ],
   "source": [
    "#defaults or non-defaults for female customers \n",
    "default_fem = cc_df.loc[cc_df['SEX'] == 2, 'default.payment.next.month']\n",
    "#defaults or non-defaults for male customers \n",
    "default_male = cc_df.loc[cc_df['SEX'] == 1, 'default.payment.next.month']\n",
    "default_male.describe()\n"
   ]
  },
  {
   "cell_type": "code",
   "execution_count": 11,
   "metadata": {},
   "outputs": [
    {
     "data": {
      "text/plain": [
       "count    18112.000000\n",
       "mean         0.207763\n",
       "std          0.405717\n",
       "min          0.000000\n",
       "25%          0.000000\n",
       "50%          0.000000\n",
       "75%          0.000000\n",
       "max          1.000000\n",
       "Name: default.payment.next.month, dtype: float64"
      ]
     },
     "execution_count": 11,
     "metadata": {},
     "output_type": "execute_result"
    }
   ],
   "source": [
    "default_fem.describe()"
   ]
  },
  {
   "cell_type": "code",
   "execution_count": 12,
   "metadata": {},
   "outputs": [
    {
     "data": {
      "text/plain": [
       "count    18112.000000\n",
       "mean        34.806868\n",
       "std          9.029441\n",
       "min         21.000000\n",
       "25%         28.000000\n",
       "50%         33.000000\n",
       "75%         41.000000\n",
       "max         75.000000\n",
       "Name: AGE, dtype: float64"
      ]
     },
     "execution_count": 12,
     "metadata": {},
     "output_type": "execute_result"
    }
   ],
   "source": [
    "sum_fem = cc_df.loc[cc_df['SEX'] == 2, 'AGE']\n",
    "sum_fem.describe()"
   ]
  },
  {
   "cell_type": "code",
   "execution_count": 13,
   "metadata": {},
   "outputs": [
    {
     "data": {
      "text/plain": [
       "count    11888.000000\n",
       "mean        36.519431\n",
       "std          9.404555\n",
       "min         21.000000\n",
       "25%         29.000000\n",
       "50%         35.000000\n",
       "75%         43.000000\n",
       "max         79.000000\n",
       "Name: AGE, dtype: float64"
      ]
     },
     "execution_count": 13,
     "metadata": {},
     "output_type": "execute_result"
    }
   ],
   "source": [
    "sum_male = cc_df.loc[cc_df['SEX'] == 1, 'AGE']\n",
    "sum_male.describe()"
   ]
  },
  {
   "cell_type": "markdown",
   "metadata": {},
   "source": [
    "# Is Default Rate showing males are more likely to default than female statistically relevant?\n",
    "\n",
    "Yes, because the p-value is really low here. This shows these rates would be consistent with the larger population and is not random. \n",
    "\n",
    "    P-Value : 0.000000000007562495588453789 \n",
    "\n",
    "\n",
    "   "
   ]
  },
  {
   "cell_type": "code",
   "execution_count": 14,
   "metadata": {},
   "outputs": [
    {
     "name": "stdout",
     "output_type": "stream",
     "text": [
      "[0.40571728 0.42811471]\n",
      "0.033909465375304954\n",
      "0.004950320184075638\n",
      "6.849953965480072\n",
      "Ttest_indResult(statistic=6.849953965480072, pvalue=7.562495588453789e-12)\n"
     ]
    }
   ],
   "source": [
    "#T-Test \n",
    "size = np.array([len(default_fem), len(default_male)])\n",
    "sd = np.array([default_fem.std(), default_male.std()])\n",
    "print(sd)\n",
    "diff = default_male.mean() - default_fem.mean()\n",
    "print(diff)\n",
    "diff_se = (sum(sd**2 / size))** 0.5\n",
    "print(diff_se)\n",
    "t_val = diff/diff_se\n",
    "print(t_val)\n",
    "from scipy.stats import ttest_ind\n",
    "print(ttest_ind(default_male, default_fem, equal_var = False))\n"
   ]
  },
  {
   "cell_type": "code",
   "execution_count": 15,
   "metadata": {},
   "outputs": [
    {
     "data": {
      "image/png": "[encoded data removed]",
      "text/plain": [
       "<Figure size 432x288 with 1 Axes>"
      ]
     },
     "metadata": {
      "needs_background": "light"
     },
     "output_type": "display_data"
    }
   ],
   "source": [
    "height = default_male.mean(), default_fem.mean()\n",
    "bars = ('Male Default Rate', 'Female Default Rate')\n",
    "y_pos = np.arange(len(bars))\n",
    "plt.bar(y_pos, height, color = 'green')\n",
    "plt.title('Default Rates of Males vs Females')\n",
    "plt.xlabel('Gender of Customers')\n",
    "plt.ylabel('Default Percentage')\n",
    "plt.xticks(y_pos, bars)\n",
    "plt.show()"
   ]
  },
  {
   "cell_type": "markdown",
   "metadata": {},
   "source": [
    "# Age Based Analysis - Evaluating early age group vs. mid age group\n",
    "\n",
    "Here I will look into different age groups. \n",
    "\n",
    "Histogram Analysis:\n",
    "\n",
    "Age is more skewed to the left of the graph showing most customer are in range of late twenties to mid thirties. It also shows that the mean age is 35 years old and median age is 34 years old. The standard deviation is 9. \n",
    "\n",
    "    Mean age: 35\n",
    "    Median age: 34\n",
    "    Most customers: Late Twenties to Mid Thirties \n",
    "    \n",
    "\n",
    "To analyze age defaults properly, I divided age into four groups: Early Age (20s to 30), Mid Age (31 - 40), Old age (41 - 50) and Senior (51 and Older) \n",
    "\n",
    "Early Age (20s to 30s)\n",
    "\n",
    "        # of Customers: 11,013 \n",
    "        Default Percentage: 0.2242 (sample % = 0.284) \n",
    "        Mean: 0.2242\n",
    "        Standard Deviation: 0.417 \n",
    "     \n",
    "Mid Age (30s to 40s):\n",
    "     \n",
    "        # of Customers: 10,713 \n",
    "        Default Percentage: 0.204 (sample % 0.284)\n",
    "        Mean: 0.204\n",
    "        Standard Deviation: 0.403 \n",
    "         \n",
    "In comparison to mid age / early age customers - mid age customers seem to have a lower default rate compared to their younger counterparts. In surface, it seems more resonable to engage with customers that are aged 31 to 40 compared to early 20s to 30s. \n"
   ]
  },
  {
   "cell_type": "code",
   "execution_count": 16,
   "metadata": {},
   "outputs": [],
   "source": [
    "age = cc_df['AGE']"
   ]
  },
  {
   "cell_type": "code",
   "execution_count": 17,
   "metadata": {},
   "outputs": [
    {
     "data": {
      "text/plain": [
       "count    30000.000000\n",
       "mean        35.485500\n",
       "std          9.217904\n",
       "min         21.000000\n",
       "25%         28.000000\n",
       "50%         34.000000\n",
       "75%         41.000000\n",
       "max         79.000000\n",
       "Name: AGE, dtype: float64"
      ]
     },
     "execution_count": 17,
     "metadata": {},
     "output_type": "execute_result"
    }
   ],
   "source": [
    "age.describe()"
   ]
  },
  {
   "cell_type": "code",
   "execution_count": 18,
   "metadata": {},
   "outputs": [
    {
     "data": {
      "image/png": "[encoded data removed]",
      "text/plain": [
       "<Figure size 432x288 with 1 Axes>"
      ]
     },
     "metadata": {
      "needs_background": "light"
     },
     "output_type": "display_data"
    }
   ],
   "source": [
    "age.hist()\n",
    "plt.axvline(age.mean(), color = 'b', linestyle = 'solid', linewidth = 2)\n",
    "plt.axvline(age.mean() + age.std(), color = 'r', linestyle = 'dashed', linewidth = 2)\n",
    "plt.axvline(age.mean() - age.std(), color = 'r', linestyle = 'dashed', linewidth = 2)\n",
    "plt.show()"
   ]
  },
  {
   "cell_type": "code",
   "execution_count": 19,
   "metadata": {},
   "outputs": [],
   "source": [
    "early_age_default = cc_df.loc[cc_df['AGE'] <= 30, 'default.payment.next.month']"
   ]
  },
  {
   "cell_type": "code",
   "execution_count": 20,
   "metadata": {},
   "outputs": [
    {
     "data": {
      "text/plain": [
       "count     11013.000000\n",
       "mean     132490.692818\n",
       "std      109893.444864\n",
       "min       10000.000000\n",
       "25%       50000.000000\n",
       "50%      100000.000000\n",
       "75%      200000.000000\n",
       "max      750000.000000\n",
       "Name: LIMIT_BAL, dtype: float64"
      ]
     },
     "execution_count": 20,
     "metadata": {},
     "output_type": "execute_result"
    }
   ],
   "source": [
    "early_age = cc_df.loc[cc_df['AGE'] <= 30, 'LIMIT_BAL']\n",
    "early_age.describe()"
   ]
  },
  {
   "cell_type": "code",
   "execution_count": 21,
   "metadata": {},
   "outputs": [],
   "source": [
    "early_age_graph = early_age_default.value_counts()"
   ]
  },
  {
   "cell_type": "code",
   "execution_count": 22,
   "metadata": {},
   "outputs": [
    {
     "data": {
      "image/png": "[encoded data removed]",
      "text/plain": [
       "<Figure size 432x288 with 1 Axes>"
      ]
     },
     "metadata": {
      "needs_background": "light"
     },
     "output_type": "display_data"
    }
   ],
   "source": [
    "plt.bar(x = early_age_graph.index, height = early_age_graph)\n",
    "plt.title('Not Default = 1, Default = 0')\n",
    "plt.xlabel('Left is 1 and Right is Zero')\n",
    "plt.ylabel('# of Defaults')\n",
    "plt.show()"
   ]
  },
  {
   "cell_type": "code",
   "execution_count": 23,
   "metadata": {},
   "outputs": [
    {
     "name": "stdout",
     "output_type": "stream",
     "text": [
      "0.22437119767547445\n"
     ]
    }
   ],
   "source": [
    "early_age_graph\n",
    "per_default = 2471/11013\n",
    "print(per_default)"
   ]
  },
  {
   "cell_type": "code",
   "execution_count": 24,
   "metadata": {},
   "outputs": [
    {
     "data": {
      "text/plain": [
       "count    11013.000000\n",
       "mean         0.224371\n",
       "std          0.417186\n",
       "min          0.000000\n",
       "25%          0.000000\n",
       "50%          0.000000\n",
       "75%          0.000000\n",
       "max          1.000000\n",
       "Name: default.payment.next.month, dtype: float64"
      ]
     },
     "execution_count": 24,
     "metadata": {},
     "output_type": "execute_result"
    }
   ],
   "source": [
    "early_age_default.describe()"
   ]
  },
  {
   "cell_type": "code",
   "execution_count": 25,
   "metadata": {},
   "outputs": [
    {
     "data": {
      "text/plain": [
       "count    10713.000000\n",
       "mean         0.204331\n",
       "std          0.403231\n",
       "min          0.000000\n",
       "25%          0.000000\n",
       "50%          0.000000\n",
       "75%          0.000000\n",
       "max          1.000000\n",
       "Name: default.payment.next.month, dtype: float64"
      ]
     },
     "execution_count": 25,
     "metadata": {},
     "output_type": "execute_result"
    }
   ],
   "source": [
    "mid_age_default = cc_df.loc[cc_df['AGE'].between(31, 40, inclusive = True),'default.payment.next.month']\n",
    "mid_age_default.describe()"
   ]
  },
  {
   "cell_type": "markdown",
   "metadata": {},
   "source": [
    "# Is the default rate between early age group / middle age group statistically significant? \n",
    "\n",
    "Yes, I would say the difference is statistically significant because the p-value is lower than 0.5. \n",
    "\n",
    "    P-value:  0.00031843522886743493"
   ]
  },
  {
   "cell_type": "code",
   "execution_count": 26,
   "metadata": {},
   "outputs": [
    {
     "name": "stdout",
     "output_type": "stream",
     "text": [
      "[0.41718649 0.40323086]\n",
      "0.0200400112664387\n",
      "0.005566050949910206\n",
      "3.6004002562646313\n",
      "Ttest_indResult(statistic=3.6004002562646313, pvalue=0.00031843522886743493)\n"
     ]
    }
   ],
   "source": [
    "#T-Test \n",
    "early_mid_size = np.array([len(early_age_default), len(mid_age_default)])\n",
    "sd = np.array([early_age_default.std(), mid_age_default.std()])\n",
    "print(sd)\n",
    "diff = early_age_default.mean() - mid_age_default.mean()\n",
    "print(diff)\n",
    "diff_se = (sum(sd**2 / early_mid_size))** 0.5\n",
    "print(diff_se)\n",
    "t_val = diff/diff_se\n",
    "print(t_val)\n",
    "from scipy.stats import ttest_ind\n",
    "print(ttest_ind(early_age_default, mid_age_default, equal_var = False))"
   ]
  },
  {
   "cell_type": "markdown",
   "metadata": {},
   "source": [
    "# Age Based Analysis - Evaluating old age group vs. senior age group\n",
    "\n",
    "To analyze age defaults properly, I divided age into four groups: Early Age (20s to 30), Mid Age (31 - 40), Old age (41 - 50) and Senior (51 and Older). The early age group and middle age group were discussed above. \n",
    "\n",
    "Here I will look at Old Age Group (41 to 50) and Senior Age Group (50 and older). \n",
    "\n",
    "Old Age (41s to 50s)\n",
    "\n",
    "        # of Customers: 6,005\n",
    "        Default Percentage: 0.2329 (sample % = 0.284) \n",
    "        Mean: 0.2329\n",
    "        Standard Deviation: 0.4228 \n",
    "     \n",
    "Senior Age (50s and Older):\n",
    "     \n",
    "        # of Customers: 2,269\n",
    "        Default Percentage: 0.2542 (sample % 0.284)\n",
    "        Mean: 0.2542\n",
    "        Standard Deviation: 0.4355 \n",
    "         \n",
    "In comparison to old age customers vs. senior age customers - the default percentage of seniors is higher than old age customers. Next, we will evaluate if this is statistically relevant\n"
   ]
  },
  {
   "cell_type": "code",
   "execution_count": 27,
   "metadata": {},
   "outputs": [
    {
     "data": {
      "text/plain": [
       "count    6005.000000\n",
       "mean        0.232973\n",
       "std         0.422760\n",
       "min         0.000000\n",
       "25%         0.000000\n",
       "50%         0.000000\n",
       "75%         0.000000\n",
       "max         1.000000\n",
       "Name: default.payment.next.month, dtype: float64"
      ]
     },
     "execution_count": 27,
     "metadata": {},
     "output_type": "execute_result"
    }
   ],
   "source": [
    "old_age_default = cc_df.loc[cc_df['AGE'].between(41, 50, inclusive = True),'default.payment.next.month']\n",
    "old_age_default.describe()"
   ]
  },
  {
   "cell_type": "code",
   "execution_count": 28,
   "metadata": {},
   "outputs": [
    {
     "data": {
      "text/plain": [
       "count    2269.000000\n",
       "mean        0.254297\n",
       "std         0.435561\n",
       "min         0.000000\n",
       "25%         0.000000\n",
       "50%         0.000000\n",
       "75%         1.000000\n",
       "max         1.000000\n",
       "Name: default.payment.next.month, dtype: float64"
      ]
     },
     "execution_count": 28,
     "metadata": {},
     "output_type": "execute_result"
    }
   ],
   "source": [
    "senior_age_default = cc_df.loc[cc_df['AGE'] >= 51,'default.payment.next.month']\n",
    "senior_age_default.describe()"
   ]
  },
  {
   "cell_type": "markdown",
   "metadata": {},
   "source": [
    "# Is the default rate between old age group / senior age group statistically significant? \n",
    "\n",
    "Yes, I would say this is not statistically significant because the number is really close to 0.05 hence, making the data more likely to be out of random chances rather than actual probability of the default rate\n",
    "\n",
    "    P-value:  0.04527 "
   ]
  },
  {
   "cell_type": "code",
   "execution_count": 29,
   "metadata": {},
   "outputs": [
    {
     "name": "stdout",
     "output_type": "stream",
     "text": [
      "[0.42276008 0.43556133]\n",
      "0.021324524259752675\n",
      "0.010647723525186155\n",
      "2.00273083812813\n",
      "Ttest_indResult(statistic=-2.00273083812813, pvalue=0.045273900310890104)\n"
     ]
    }
   ],
   "source": [
    "#T-Test \n",
    "old_senior_size = np.array([len(old_age_default), len(senior_age_default)])\n",
    "sd = np.array([old_age_default.std(), senior_age_default.std()])\n",
    "print(sd)\n",
    "diff = senior_age_default.mean() - old_age_default.mean()\n",
    "print(diff)\n",
    "diff_se = (sum(sd**2 / old_senior_size))** 0.5\n",
    "print(diff_se)\n",
    "t_val = diff/diff_se\n",
    "print(t_val)\n",
    "from scipy.stats import ttest_ind\n",
    "print(ttest_ind(old_age_default, senior_age_default, equal_var = False))"
   ]
  },
  {
   "cell_type": "markdown",
   "metadata": {},
   "source": [
    "# Comparing the highest default rate vs. the lowest one - statistically relevant? \n",
    "\n",
    "The % of defaults based on age groups ranking from highest to lowest:\n",
    "\n",
    "    Senior Age Group: .2543 \n",
    "    Old Age Group: .2337\n",
    "    Early Age Group: .2243\n",
    "    Mid Age Group: .2004\n",
    "    \n",
    "\n",
    "Yes, these are statistically relevant considering the low p-value: 0.0000005257364223306013\n"
   ]
  },
  {
   "cell_type": "code",
   "execution_count": 30,
   "metadata": {},
   "outputs": [
    {
     "name": "stdout",
     "output_type": "stream",
     "text": [
      "[0.43556133 0.40323086]\n",
      "0.04996586074830228\n",
      "0.009939240607994301\n",
      "5.027130614799071\n",
      "Ttest_indResult(statistic=5.027130614799071, pvalue=5.257364223306013e-07)\n"
     ]
    }
   ],
   "source": [
    "#T-Test \n",
    "mid_senior_size = np.array([len(senior_age_default), len(mid_age_default)])\n",
    "sd = np.array([senior_age_default.std(), mid_age_default.std()])\n",
    "print(sd)\n",
    "diff = senior_age_default.mean() - mid_age_default.mean()\n",
    "print(diff)\n",
    "diff_se = (sum(sd**2 / mid_senior_size))** 0.5\n",
    "print(diff_se)\n",
    "t_val = diff/diff_se\n",
    "print(t_val)\n",
    "from scipy.stats import ttest_ind\n",
    "print(ttest_ind(senior_age_default, mid_age_default, equal_var = False))"
   ]
  },
  {
   "cell_type": "markdown",
   "metadata": {},
   "source": [
    "# Default rates based on education:\n",
    "\n",
    "Our dataset has different education levels starting with 1 = Graduate Degree, 2 = University, 3 = High School, and 4 = Other. Graduate is the highest degree and High School is the lowest. Other is not defined so, is excluded here for analysis. \n",
    "\n",
    "## From initial finding - it looks like default rates goes down as education goes up. See bar graph below.\n",
    "\n",
    "It appears that higher education leads to a lower default rate as shown by the bar graph below. For our purposes, I am ignoring the \"other\" field as the dataset doesn't signify what \"other\" is - it may indicate degree higher than graduate degree (PhD, MD, JD etc) or maybe lower than high school. If we ignore the \"other\" - we can see that default rate decrease as education level increase. \n",
    "\n",
    "## To test the significance of this, I will be comparing the highest degree (Graduate) with lowest degree (High School) to see if it is statistically significant. \n",
    "\n",
    "From the t-test, we can see that this is significant based on the p-value:\n",
    "\n",
    "    P-Value: 4.591193167679487e-16\n",
    "\n"
   ]
  },
  {
   "cell_type": "code",
   "execution_count": 31,
   "metadata": {},
   "outputs": [],
   "source": [
    "edu_default = cc_df[['LIMIT_BAL', 'EDUCATION', 'default.payment.next.month']]\n",
    "grad_def = cc_df.loc[cc_df['EDUCATION'] == 1, 'default.payment.next.month']\n",
    "univ_def= cc_df.loc[cc_df['EDUCATION'] == 2, 'default.payment.next.month']\n",
    "hs_def= cc_df.loc[cc_df['EDUCATION'] == 3, 'default.payment.next.month']\n",
    "other_def = cc_df.loc[cc_df['EDUCATION'] == 4, 'default.payment.next.month']"
   ]
  },
  {
   "cell_type": "code",
   "execution_count": 32,
   "metadata": {},
   "outputs": [
    {
     "name": "stdout",
     "output_type": "stream",
     "text": [
      "10585\n",
      "4917\n"
     ]
    }
   ],
   "source": [
    "grads = cc_df.loc[cc_df['EDUCATION'] == 1]\n",
    "hs = cc_df.loc[cc_df['EDUCATION'] == 3]\n",
    "count_grad = (len(grads))\n",
    "count_hs = (len(hs))\n",
    "print(count_grad)\n",
    "print(count_hs)"
   ]
  },
  {
   "cell_type": "code",
   "execution_count": 33,
   "metadata": {},
   "outputs": [
    {
     "data": {
      "image/png": "[encoded data removed]",
      "text/plain": [
       "<Figure size 432x288 with 1 Axes>"
      ]
     },
     "metadata": {
      "needs_background": "light"
     },
     "output_type": "display_data"
    }
   ],
   "source": [
    "height = grad_def.mean(), univ_def.mean(), hs_def.mean(), other_def.mean()\n",
    "bars = ('Grad', 'University', 'High School', 'Other')\n",
    "y_pos = np.arange(len(bars))\n",
    "plt.bar(y_pos, height, color = 'pink')\n",
    "plt.title('Default Rates based on Education')\n",
    "plt.xlabel('Education Level of Customers')\n",
    "plt.ylabel('Default Percentage')\n",
    "plt.xticks(y_pos, bars)\n",
    "plt.show()"
   ]
  },
  {
   "cell_type": "code",
   "execution_count": 34,
   "metadata": {},
   "outputs": [
    {
     "name": "stdout",
     "output_type": "stream",
     "text": [
      "[0.39416331 0.43396302]\n",
      "-0.05922850254229661\n",
      "0.007278625445179357\n",
      "-8.137319743733169\n",
      "Ttest_indResult(statistic=-8.137319743733169, pvalue=4.591193167679487e-16)\n"
     ]
    }
   ],
   "source": [
    "#T-Test \n",
    "edu_size = np.array([len(grad_def), len(hs_def)])\n",
    "sd = np.array([grad_def.std(), hs_def.std()])\n",
    "print(sd)\n",
    "diff = grad_def.mean() - hs_def.mean()\n",
    "print(diff)\n",
    "diff_se = (sum(sd**2 / edu_size))** 0.5\n",
    "print(diff_se)\n",
    "t_val = diff/diff_se\n",
    "print(t_val)\n",
    "from scipy.stats import ttest_ind\n",
    "print(ttest_ind(grad_def, hs_def, equal_var = False))"
   ]
  },
  {
   "cell_type": "markdown",
   "metadata": {},
   "source": [
    "# Default rates based on relationship status:\n",
    "\n",
    "Our dataset has 3 relationship status: 1 = Married, 2 = Single, and 3 = Others. We are looking at if a person's relationship status determines their default rates below. \n",
    "\n",
    "There are higher amount of Single customers than Married customers. As Others is not described, I am excluding it from the analysis. It may mean divorced or in a relationship so, it is unclear. \n",
    "\n",
    "## After we exclude the \"other\" group - we can see that default rates is higher among married customers compared to single customers. We will now see if this is statistically relevant.\n",
    "\n",
    "Through a T-Test, we can see that this is statistically relevant.\n",
    "\n",
    "    P-Value: 1.5781118577956158e-07\n",
    "\n"
   ]
  },
  {
   "cell_type": "code",
   "execution_count": 35,
   "metadata": {},
   "outputs": [
    {
     "name": "stdout",
     "output_type": "stream",
     "text": [
      "13659\n",
      "15964\n",
      "323\n"
     ]
    }
   ],
   "source": [
    "rel_default = cc_df[['LIMIT_BAL', 'MARRIAGE', 'default.payment.next.month']]\n",
    "married_def = cc_df.loc[cc_df['MARRIAGE'] == 1, 'default.payment.next.month']\n",
    "single_def= cc_df.loc[cc_df['MARRIAGE'] == 2, 'default.payment.next.month']\n",
    "other_def= cc_df.loc[cc_df['MARRIAGE'] == 3, 'default.payment.next.month']\n",
    "married = cc_df.loc[cc_df['MARRIAGE'] == 1]\n",
    "single = cc_df.loc[cc_df['MARRIAGE'] == 2]\n",
    "other_rel = cc_df.loc[cc_df['MARRIAGE'] == 3]\n",
    "married_count = (len(married))\n",
    "single_count = (len(single))\n",
    "other_rel_count = (len(other_rel))\n",
    "print(married_count)\n",
    "print(single_count)\n",
    "print(other_rel_count)"
   ]
  },
  {
   "cell_type": "code",
   "execution_count": 36,
   "metadata": {},
   "outputs": [
    {
     "data": {
      "image/png": "[encoded data removed]",
      "text/plain": [
       "<Figure size 432x288 with 1 Axes>"
      ]
     },
     "metadata": {
      "needs_background": "light"
     },
     "output_type": "display_data"
    }
   ],
   "source": [
    "height = married_count, single_count, other_rel_count\n",
    "bars = ('Married', 'Single', 'Other')\n",
    "y_pos = np.arange(len(bars))\n",
    "plt.bar(y_pos, height, color = 'yellow')\n",
    "plt.title('# of Customers by Relationship Status')\n",
    "plt.xlabel('Relationship Status')\n",
    "plt.ylabel('# of Customers')\n",
    "plt.xticks(y_pos, bars)\n",
    "plt.show()"
   ]
  },
  {
   "cell_type": "code",
   "execution_count": 37,
   "metadata": {},
   "outputs": [
    {
     "data": {
      "image/png": "[encoded data removed]",
      "text/plain": [
       "<Figure size 432x288 with 1 Axes>"
      ]
     },
     "metadata": {
      "needs_background": "light"
     },
     "output_type": "display_data"
    }
   ],
   "source": [
    "height = married_def.mean(), single_def.mean()\n",
    "bars = ('Married', 'Single')\n",
    "y_pos = np.arange(len(bars))\n",
    "plt.bar(y_pos, height, color = 'green')\n",
    "plt.title('Default Percentage by Relationship Status')\n",
    "plt.xlabel('Relationship Status')\n",
    "plt.ylabel('Percentage of Defaults')\n",
    "plt.xticks(y_pos, bars)\n",
    "plt.show()"
   ]
  },
  {
   "cell_type": "code",
   "execution_count": 38,
   "metadata": {},
   "outputs": [
    {
     "name": "stdout",
     "output_type": "stream",
     "text": [
      "[0.42383735 0.40680981]\n",
      "0.025433648764115607\n",
      "0.004849571399149833\n",
      "5.244514756205944\n",
      "Ttest_indResult(statistic=5.244514756205944, pvalue=1.5781118577956158e-07)\n"
     ]
    }
   ],
   "source": [
    "#T-Test \n",
    "rel_size = np.array([len(married_def), len(single_def)])\n",
    "sd = np.array([married_def.std(), single_def.std()])\n",
    "print(sd)\n",
    "diff = married_def.mean() - single_def.mean()\n",
    "print(diff)\n",
    "diff_se = (sum(sd**2 / rel_size))** 0.5\n",
    "print(diff_se)\n",
    "t_val = diff/diff_se\n",
    "print(t_val)\n",
    "from scipy.stats import ttest_ind\n",
    "print(ttest_ind(married_def, single_def, equal_var = False))"
   ]
  },
  {
   "cell_type": "markdown",
   "metadata": {},
   "source": [
    "# Question # 2: Does limit balance play a factor in default rates?  \n",
    "\n",
    "Are customers with a lower balance more likely to default than customers with higher balances? \n",
    "\n",
    "Here I will look at limit balance and see if limit balances play a factor in default rates. For example, are customers with lower balances more likely to default than customers with higher balances? \n",
    "\n",
    "To do this, I will first look at if customers of a certain age have a higher limit balance and compare that to the age group's default rates. \n",
    "\n",
    "Overall Limit Stats:\n",
    "\n",
    "    Mean: 167,484\n",
    "    Std: 129,747\n",
    "    Min: 10,000\n",
    "    Max: 1,000,000 \n",
    "    \n",
    "    \n",
    "Early Age Limit Stats (20s to 30s):\n",
    "Default Rate: .2243\n",
    "\n",
    "    Mean: 132,491\n",
    "    Std: 109,893\n",
    "    Min: 10,000\n",
    "    Max: 750,000\n",
    "    \n",
    "Mid Age Limit Stats (30s to 40s): \n",
    "Default Rate: .2004\n",
    "\n",
    "    Mean: 192,272\n",
    "    Std: 132,688\n",
    "    Min: 10,000\n",
    "    Max: 750,000\n",
    "\n",
    "## Are limit balances higher in one group than another?\n",
    "\n",
    "Here, we can see that middle age group has a higher limit balance average. They also have a lower default rate compared to the early age group. We will check if that is statistically relevant below.\n"
   ]
  },
  {
   "cell_type": "code",
   "execution_count": 39,
   "metadata": {},
   "outputs": [
    {
     "data": {
      "text/plain": [
       "count      30000.000000\n",
       "mean      167484.322667\n",
       "std       129747.661567\n",
       "min        10000.000000\n",
       "25%        50000.000000\n",
       "50%       140000.000000\n",
       "75%       240000.000000\n",
       "max      1000000.000000\n",
       "Name: LIMIT_BAL, dtype: float64"
      ]
     },
     "execution_count": 39,
     "metadata": {},
     "output_type": "execute_result"
    }
   ],
   "source": [
    "age_limit = cc_df[['AGE', 'LIMIT_BAL', 'default.payment.next.month']]\n",
    "limit_age = age_limit['LIMIT_BAL']\n",
    "limit_age.describe()"
   ]
  },
  {
   "cell_type": "code",
   "execution_count": 40,
   "metadata": {},
   "outputs": [
    {
     "data": {
      "image/png": "[encoded data removed]",
      "text/plain": [
       "<Figure size 432x288 with 1 Axes>"
      ]
     },
     "metadata": {
      "needs_background": "light"
     },
     "output_type": "display_data"
    }
   ],
   "source": [
    "limit_age.hist()\n",
    "plt.axvline(limit_age.mean(), color = 'b', linestyle = 'solid', linewidth = 2)\n",
    "plt.axvline(limit_age.mean() + limit_age.std(), color = 'r', linestyle = 'dashed', linewidth = 2)\n",
    "plt.axvline(limit_age.mean() - limit_age.std(), color = 'r', linestyle = 'dashed', linewidth = 2)\n",
    "plt.show()"
   ]
  },
  {
   "cell_type": "code",
   "execution_count": 41,
   "metadata": {},
   "outputs": [
    {
     "data": {
      "text/plain": [
       "count     11013.000000\n",
       "mean     132490.692818\n",
       "std      109893.444864\n",
       "min       10000.000000\n",
       "25%       50000.000000\n",
       "50%      100000.000000\n",
       "75%      200000.000000\n",
       "max      750000.000000\n",
       "Name: LIMIT_BAL, dtype: float64"
      ]
     },
     "execution_count": 41,
     "metadata": {},
     "output_type": "execute_result"
    }
   ],
   "source": [
    "early_age = cc_df.loc[cc_df['AGE'] <= 30, 'LIMIT_BAL']\n",
    "early_age.describe()"
   ]
  },
  {
   "cell_type": "code",
   "execution_count": 42,
   "metadata": {},
   "outputs": [
    {
     "data": {
      "image/png": "[encoded data removed]",
      "text/plain": [
       "<Figure size 432x288 with 1 Axes>"
      ]
     },
     "metadata": {
      "needs_background": "light"
     },
     "output_type": "display_data"
    }
   ],
   "source": [
    "early_age.hist()\n",
    "plt.axvline(early_age.mean(), color = 'b', linestyle = 'solid', linewidth = 2)\n",
    "plt.axvline(early_age.mean() + early_age.std(), color = 'r', linestyle = 'dashed', linewidth = 2)\n",
    "plt.axvline(early_age.mean() - early_age.std(), color = 'r', linestyle = 'dashed', linewidth = 2)\n",
    "plt.show()\n",
    "plt.show()"
   ]
  },
  {
   "cell_type": "code",
   "execution_count": 43,
   "metadata": {},
   "outputs": [
    {
     "data": {
      "text/plain": [
       "count     10713.000000\n",
       "mean     197271.539251\n",
       "std      132688.333009\n",
       "min       10000.000000\n",
       "25%       80000.000000\n",
       "50%      180000.000000\n",
       "75%      280000.000000\n",
       "max      750000.000000\n",
       "Name: LIMIT_BAL, dtype: float64"
      ]
     },
     "execution_count": 43,
     "metadata": {},
     "output_type": "execute_result"
    }
   ],
   "source": [
    "mid_age_limit = cc_df.loc[cc_df['AGE'].between(31, 40, inclusive = True),'LIMIT_BAL']\n",
    "mid_age_limit.describe()"
   ]
  },
  {
   "cell_type": "markdown",
   "metadata": {},
   "source": [
    "## It looks like higher limit balance correlates to lower default rate in age groups early v. mid age. \n",
    "\n",
    "## Does higher limit balance mean lower chances of default as found in early age v. mid age? \n",
    "\n",
    "## If so, is that statistically relevant? \n",
    "\n",
    "From above, we can see that the early age group has a higher default rate of .2243 and a lower mean limit balance compared to the middle age group with a default rate of .2004 and a higher limit balance mean. From this alone, we can possibly infer that higher limit balance means lower default rate. \n",
    "\n",
    "Let's check that with a T-Test:\n",
    "\n",
    "P-Value = 0.0\n",
    "\n",
    "We can conclude that we do not have sufficient information to be able to analyze if this data is statistically significant. We can check again by comparing old age v. senior age. \n",
    "\n"
   ]
  },
  {
   "cell_type": "code",
   "execution_count": 44,
   "metadata": {},
   "outputs": [
    {
     "name": "stdout",
     "output_type": "stream",
     "text": [
      "[109893.4448642  132688.33300863]\n",
      "64780.84643379762\n",
      "1655.2993500629498\n",
      "39.13542673192861\n",
      "Ttest_indResult(statistic=-39.13542673192861, pvalue=0.0)\n"
     ]
    }
   ],
   "source": [
    "#T-Test \n",
    "early_mid_size = np.array([len(early_age),len(mid_age_limit)]) \n",
    "sd = np.array([early_age.std(), mid_age_limit.std()])\n",
    "print(sd)\n",
    "diff = mid_age_limit.mean() - early_age.mean()\n",
    "print(diff)\n",
    "diff_se = (sum(sd ** 2 / early_mid_size)) ** 0.5 \n",
    "print(diff_se)\n",
    "t_val = diff/diff_se\n",
    "print(t_val)\n",
    "from scipy.stats import ttest_ind\n",
    "print(ttest_ind(early_age, mid_age_limit, equal_var = False))"
   ]
  },
  {
   "cell_type": "markdown",
   "metadata": {},
   "source": [
    "## Again, we see that in old age v. senior age - the group with the higher limit balance has a lower default percentage. Is that statistically relevant?\n",
    "\n",
    "According to our calculations, old age customers have a default rate of 0.2329 while seniors have a default rate of .2542. The old age limit mean is 179,680 compared to senior age limit mean of 164,416. This shows that higher limit coorelates with lower default rate in this case as well.\n",
    "\n",
    "This is statistically relevant as the p-value is really low:\n",
    "\n",
    "    P-Value: 9.531979128360559e-06\n",
    "    "
   ]
  },
  {
   "cell_type": "code",
   "execution_count": 45,
   "metadata": {},
   "outputs": [
    {
     "data": {
      "text/plain": [
       "count       6005.000000\n",
       "mean      179680.213156\n",
       "std       138349.572263\n",
       "min        10000.000000\n",
       "25%        50000.000000\n",
       "50%       150000.000000\n",
       "75%       260000.000000\n",
       "max      1000000.000000\n",
       "Name: LIMIT_BAL, dtype: float64"
      ]
     },
     "execution_count": 45,
     "metadata": {},
     "output_type": "execute_result"
    }
   ],
   "source": [
    "old_age_limit = cc_df.loc[cc_df['AGE'].between(41, 50, inclusive = True),'LIMIT_BAL']\n",
    "old_age_limit.describe()"
   ]
  },
  {
   "cell_type": "code",
   "execution_count": 46,
   "metadata": {},
   "outputs": [
    {
     "data": {
      "image/png": "[encoded data removed]",
      "text/plain": [
       "<Figure size 432x288 with 1 Axes>"
      ]
     },
     "metadata": {
      "needs_background": "light"
     },
     "output_type": "display_data"
    }
   ],
   "source": [
    "old_age_limit.hist()\n",
    "plt.axvline(old_age_limit.mean(), color = 'b', linestyle = 'solid', linewidth = 2)\n",
    "plt.axvline(old_age_limit.mean() + old_age_limit.std(), color = 'r', linestyle = 'dashed', linewidth = 2)\n",
    "plt.axvline(old_age_limit.mean() - old_age_limit.std(), color = 'r', linestyle = 'dashed', linewidth = 2)\n",
    "plt.show()\n",
    "plt.show()"
   ]
  },
  {
   "cell_type": "code",
   "execution_count": 47,
   "metadata": {},
   "outputs": [
    {
     "data": {
      "text/plain": [
       "count      2269.000000\n",
       "mean     164416.042309\n",
       "std      140240.960525\n",
       "min       10000.000000\n",
       "25%       50000.000000\n",
       "50%      120000.000000\n",
       "75%      240000.000000\n",
       "max      800000.000000\n",
       "Name: LIMIT_BAL, dtype: float64"
      ]
     },
     "execution_count": 47,
     "metadata": {},
     "output_type": "execute_result"
    }
   ],
   "source": [
    "senior_age_limit = cc_df.loc[cc_df['AGE'] >= 51,'LIMIT_BAL']\n",
    "senior_age_limit.describe()"
   ]
  },
  {
   "cell_type": "code",
   "execution_count": 48,
   "metadata": {},
   "outputs": [
    {
     "data": {
      "image/png": "[encoded data removed]",
      "text/plain": [
       "<Figure size 432x288 with 1 Axes>"
      ]
     },
     "metadata": {
      "needs_background": "light"
     },
     "output_type": "display_data"
    }
   ],
   "source": [
    "senior_age_limit.hist()\n",
    "plt.axvline(senior_age_limit.mean(), color = 'b', linestyle = 'solid', linewidth = 2)\n",
    "plt.axvline(senior_age_limit.mean() + senior_age_limit.std(), color = 'r', linestyle = 'dashed', linewidth = 2)\n",
    "plt.axvline(senior_age_limit.mean() - senior_age_limit.std(), color = 'r', linestyle = 'dashed', linewidth = 2)\n",
    "plt.show()\n",
    "plt.show()"
   ]
  },
  {
   "cell_type": "code",
   "execution_count": 49,
   "metadata": {},
   "outputs": [
    {
     "name": "stdout",
     "output_type": "stream",
     "text": [
      "[140240.96052454 138349.57226337]\n",
      "-15264.170846316207\n",
      "3443.1630475202287\n",
      "-4.433182697319398\n",
      "Ttest_indResult(statistic=-4.433182697319398, pvalue=9.531979128360559e-06)\n"
     ]
    }
   ],
   "source": [
    "#T-Test \n",
    "old_senior_size = np.array([len(senior_age_limit), len(old_age_limit)])\n",
    "sd = np.array([senior_age_limit.std(), old_age_limit.std()])\n",
    "print(sd)\n",
    "diff = senior_age_limit.mean() - old_age_limit.mean()\n",
    "print(diff)\n",
    "diff_se = (sum(sd**2 / old_senior_size))** 0.5\n",
    "print(diff_se)\n",
    "t_val = diff/diff_se\n",
    "print(t_val)\n",
    "from scipy.stats import ttest_ind\n",
    "print(ttest_ind(senior_age_limit, old_age_limit, equal_var = False))"
   ]
  },
  {
   "cell_type": "markdown",
   "metadata": {},
   "source": [
    "## The ages groups that have a higher balance have lower default rates as shown by the two comparisons above between (early age v. mid age) and (old age v. seniors). \n",
    "\n",
    "## For further analysis , let's compare the highest default rate (seniors) vs. lowest default rate (mid age). From a T-Test, we can also see that this is statistically relevant: \n",
    "\n",
    "    Senior Default Rate: .2542\n",
    "    Mid Age Default Rate: .2004\n",
    "    Senior Limit Balance: 164,416\n",
    "    Mid Age Limit Balance: 197,271 \n",
    "\n",
    "This appears to be statistically relevant, as p-value is really low.\n",
    "\n",
    "    P-Value: 3.370147322947796e-24 "
   ]
  },
  {
   "cell_type": "code",
   "execution_count": 50,
   "metadata": {},
   "outputs": [
    {
     "name": "stdout",
     "output_type": "stream",
     "text": [
      "[140240.96052454 132688.33300863]\n",
      "-32855.49694198946\n",
      "3211.132081456199\n",
      "-10.231748837652919\n",
      "Ttest_indResult(statistic=-10.231748837652919, pvalue=3.370147322947796e-24)\n"
     ]
    }
   ],
   "source": [
    "#T-Test \n",
    "senior_mid_size = np.array([len(senior_age_limit), len(mid_age_limit)])\n",
    "sd = np.array([senior_age_limit.std(), mid_age_limit.std()])\n",
    "print(sd)\n",
    "diff = senior_age_limit.mean() - mid_age_limit.mean()\n",
    "print(diff)\n",
    "diff_se = (sum(sd**2 / senior_mid_size))** 0.5\n",
    "print(diff_se)\n",
    "t_val = diff/diff_se\n",
    "print(t_val)\n",
    "from scipy.stats import ttest_ind\n",
    "print(ttest_ind(senior_age_limit, mid_age_limit, equal_var = False))"
   ]
  },
  {
   "cell_type": "markdown",
   "metadata": {},
   "source": [
    "# Now let's look at instances of default based on various ranges of limit balances. \n",
    "\n",
    "To do this, I divided the limit balances by 100,000 to create groups of limit balances. This led to range of limits being from 0 to 10 which 0 having the lowest mean and 10 having the highest mean based on the calculations. This created a division of ranges of limits.\n",
    "\n",
    "I then plotted this into a scatter plot to show that the default means goes down as the limit balances goes up based on the Range of Limits. The only difference is at Range of Limits '5' where the default rate is 0.11 which is lower than the following 2 default rates in Range of Limits '6' of .12844 and Range of Limits '7' of .12500. \n",
    "\n",
    "The following to range groups of 8 and 10, do not have a default mean which means no one in this group is likely to default. \n",
    "\n",
    "## The scatter plot's trend line shows that the default rate decreases as the limit balance range goes up (higher limit balance correlating to a lower default rate)"
   ]
  },
  {
   "cell_type": "code",
   "execution_count": 51,
   "metadata": {},
   "outputs": [],
   "source": [
    "limit_to_default = cc_df[['LIMIT_BAL', 'default.payment.next.month']].copy()\n",
    "limit_to_default['Range of Limits'] = (cc_df['LIMIT_BAL'] / 100000).round()\n",
    "range_of_limits = (cc_df['LIMIT_BAL'] / 100000).round()\n",
    "range_mean = limit_to_default.groupby('Range of Limits').mean()\n",
    "range_mean\n",
    "range_size = limit_to_default.groupby('Range of Limits').size()"
   ]
  },
  {
   "cell_type": "code",
   "execution_count": 52,
   "metadata": {},
   "outputs": [
    {
     "data": {
      "text/html": [
       "<div>\n",
       "<style scoped>\n",
       "    .dataframe tbody tr th:only-of-type {\n",
       "        vertical-align: middle;\n",
       "    }\n",
       "\n",
       "    .dataframe tbody tr th {\n",
       "        vertical-align: top;\n",
       "    }\n",
       "\n",
       "    .dataframe thead th {\n",
       "        text-align: right;\n",
       "    }\n",
       "</style>\n",
       "<table border=\"1\" class=\"dataframe\">\n",
       "  <thead>\n",
       "    <tr style=\"text-align: right;\">\n",
       "      <th></th>\n",
       "      <th>LIMIT_BAL</th>\n",
       "      <th>default.payment.next.month</th>\n",
       "    </tr>\n",
       "    <tr>\n",
       "      <th>Range of Limits</th>\n",
       "      <th></th>\n",
       "      <th></th>\n",
       "    </tr>\n",
       "  </thead>\n",
       "  <tbody>\n",
       "    <tr>\n",
       "      <th>0.0</th>\n",
       "      <td>14239.688828</td>\n",
       "      <td>0.465681</td>\n",
       "    </tr>\n",
       "    <tr>\n",
       "      <th>1.0</th>\n",
       "      <td>25156.899094</td>\n",
       "      <td>0.431398</td>\n",
       "    </tr>\n",
       "    <tr>\n",
       "      <th>2.0</th>\n",
       "      <td>30368.535245</td>\n",
       "      <td>0.377644</td>\n",
       "    </tr>\n",
       "    <tr>\n",
       "      <th>3.0</th>\n",
       "      <td>24164.632057</td>\n",
       "      <td>0.353216</td>\n",
       "    </tr>\n",
       "    <tr>\n",
       "      <th>4.0</th>\n",
       "      <td>31058.357133</td>\n",
       "      <td>0.351848</td>\n",
       "    </tr>\n",
       "    <tr>\n",
       "      <th>5.0</th>\n",
       "      <td>14442.342195</td>\n",
       "      <td>0.315558</td>\n",
       "    </tr>\n",
       "    <tr>\n",
       "      <th>6.0</th>\n",
       "      <td>30501.527621</td>\n",
       "      <td>0.336125</td>\n",
       "    </tr>\n",
       "    <tr>\n",
       "      <th>7.0</th>\n",
       "      <td>22682.947979</td>\n",
       "      <td>0.336011</td>\n",
       "    </tr>\n",
       "    <tr>\n",
       "      <th>8.0</th>\n",
       "      <td>21473.497878</td>\n",
       "      <td>0.000000</td>\n",
       "    </tr>\n",
       "    <tr>\n",
       "      <th>10.0</th>\n",
       "      <td>NaN</td>\n",
       "      <td>NaN</td>\n",
       "    </tr>\n",
       "  </tbody>\n",
       "</table>\n",
       "</div>"
      ],
      "text/plain": [
       "                    LIMIT_BAL  default.payment.next.month\n",
       "Range of Limits                                          \n",
       "0.0              14239.688828                    0.465681\n",
       "1.0              25156.899094                    0.431398\n",
       "2.0              30368.535245                    0.377644\n",
       "3.0              24164.632057                    0.353216\n",
       "4.0              31058.357133                    0.351848\n",
       "5.0              14442.342195                    0.315558\n",
       "6.0              30501.527621                    0.336125\n",
       "7.0              22682.947979                    0.336011\n",
       "8.0              21473.497878                    0.000000\n",
       "10.0                      NaN                         NaN"
      ]
     },
     "execution_count": 52,
     "metadata": {},
     "output_type": "execute_result"
    }
   ],
   "source": [
    "range_sd = limit_to_default.groupby('Range of Limits').std()\n",
    "range_sd"
   ]
  },
  {
   "cell_type": "code",
   "execution_count": 53,
   "metadata": {},
   "outputs": [
    {
     "data": {
      "text/plain": [
       "Range of Limits\n",
       "0.0     7676\n",
       "1.0     7614\n",
       "2.0     7993\n",
       "3.0     3129\n",
       "4.0     2357\n",
       "5.0     1080\n",
       "6.0      109\n",
       "7.0       32\n",
       "8.0        9\n",
       "10.0       1\n",
       "dtype: int64"
      ]
     },
     "execution_count": 53,
     "metadata": {},
     "output_type": "execute_result"
    }
   ],
   "source": [
    "range_size"
   ]
  },
  {
   "cell_type": "code",
   "execution_count": 54,
   "metadata": {},
   "outputs": [
    {
     "data": {
      "image/png": "[encoded data removed]",
      "text/plain": [
       "<Figure size 432x288 with 1 Axes>"
      ]
     },
     "metadata": {
      "needs_background": "light"
     },
     "output_type": "display_data"
    }
   ],
   "source": [
    "x = range_mean.index\n",
    "y = range_mean['default.payment.next.month']\n",
    "plt.scatter(x,y)\n",
    "z = np.polyfit(x, y, 1)\n",
    "p = np.poly1d(z)\n",
    "plt.plot(x, p(x), \"r--\" )\n",
    "plt.title('Limit Balances and Default Percentage Relationship')\n",
    "plt.xlabel('Range of Limit Balances')\n",
    "plt.ylabel('Percentage of Defaults')\n",
    "plt.show()"
   ]
  },
  {
   "cell_type": "markdown",
   "metadata": {},
   "source": [
    "## Now, I will check if this is statiscally relevant by looking at two range data points. \n",
    "\n",
    "To avoid drastic results, I am avoiding points 8 and 10 with zero default rate and the first 1 with a really high default rate. \n",
    "\n",
    "From a T-Test, we can see that this is statistically relevant as the p-value is below 0.5\n",
    "\n",
    "    P-Value = 1.123975393423431e-08\n",
    "    \n",
    "Asides from this, the graph also showa positive correlation between limit balances and default rates as in as limit balances goes up - default percentage goes down as shown by the trendline above. "
   ]
  },
  {
   "cell_type": "code",
   "execution_count": 55,
   "metadata": {},
   "outputs": [
    {
     "name": "stdout",
     "output_type": "stream",
     "text": [
      "0.17227574127361442\n",
      "7993\n",
      "0.37764355242207615\n"
     ]
    }
   ],
   "source": [
    "two_mean_lim = range_mean.iloc[2, 1]\n",
    "two_size = range_size[2]\n",
    "two_std_lim = range_sd.iloc[2,1]\n",
    "print(two_mean_lim)\n",
    "print(two_size)\n",
    "print(two_std_lim)"
   ]
  },
  {
   "cell_type": "code",
   "execution_count": 56,
   "metadata": {},
   "outputs": [
    {
     "name": "stdout",
     "output_type": "stream",
     "text": [
      "493805.55555555556\n",
      "1080\n",
      "14442.342194713427\n"
     ]
    }
   ],
   "source": [
    "fiv_mean_lim = range_mean.iloc[5,0]\n",
    "fiv_size = range_size[5]\n",
    "fiv_std_lim = range_sd.iloc[5,0]\n",
    "print(fiv_mean_lim)\n",
    "print(fiv_size)\n",
    "print(fiv_std_lim)"
   ]
  },
  {
   "cell_type": "code",
   "execution_count": 57,
   "metadata": {},
   "outputs": [],
   "source": [
    "two_range = limit_to_default.loc[limit_to_default['Range of Limits'] == 2, 'default.payment.next.month']\n",
    "five_range = limit_to_default.loc[limit_to_default['Range of Limits'] == 5, 'default.payment.next.month']"
   ]
  },
  {
   "cell_type": "code",
   "execution_count": 58,
   "metadata": {},
   "outputs": [
    {
     "name": "stdout",
     "output_type": "stream",
     "text": [
      "Ttest_indResult(statistic=5.742404619379138, pvalue=1.123975393423431e-08)\n"
     ]
    }
   ],
   "source": [
    "from scipy.stats import ttest_ind\n",
    "print(ttest_ind(two_range, five_range, equal_var = False))"
   ]
  },
  {
   "cell_type": "markdown",
   "metadata": {},
   "source": [
    "# Question # 3: Can the bill amount perdict default rates? Is there a corelation between limit balances / bill amounts? \n",
    "\n",
    "To do this, I created a range of sum of bill amounts. To do so, I added all the bills (there are 6 of them) and then I created a range of bill amount by dividing rounding them to a whole number and dividing them by 300,000. This led to total of 18 ranges of bills and I grouped by the range of bills. I then graphed the relationship betwen range of bills and limit balances. I then found that limit balances are positively correlated to bill amount i.e. the higher the limit balance is - the more the bill amount is. \n",
    "\n",
    "## If we only look at range of bills till group 10, we can see that there is a slight trend that shows that default rate increase as sum of bills increase. \n",
    "\n",
    "After group 10, the default rate again goes to zero. But, from this we can possibly infer that there is negative correlation between the amount of bill and default rates (default rate will increase if there is a higher sum of bills)\n",
    "\n",
    "I also took the top 1000 data points of the data and found the same trend. Although, we should note that there is no consistent trend of upwards default rate per bill amount. This could be due to the fact that we grouped the data points into ranges. \n",
    "\n",
    "Let's see if that is statistically relevant by picking the first and the last data point (0 and 10) and a few others:\n",
    "\n",
    "0 Range v. 10 Range:\n",
    "\n",
    "    P -Value : 0.11 (Not relevant) \n",
    "\n",
    "2 Range v. 9 Range: \n",
    "\n",
    "    P-Value: 0.29 (Not relevant) \n",
    "    \n",
    "2 Range v. 10 Range: \n",
    "\n",
    "    P-Value: 0.07 (Not relevant) \n",
    "    \n",
    "1 Range v. 10 Range:\n",
    "\n",
    "    P-Value: 0.11 (Not relevant) "
   ]
  },
  {
   "cell_type": "code",
   "execution_count": 59,
   "metadata": {},
   "outputs": [],
   "source": [
    "bill_amt = cc_df[['LIMIT_BAL','BILL_AMT1', 'BILL_AMT2', 'BILL_AMT3', 'BILL_AMT4', 'BILL_AMT5', 'BILL_AMT6', 'default.payment.next.month']]"
   ]
  },
  {
   "cell_type": "code",
   "execution_count": 60,
   "metadata": {
    "scrolled": true
   },
   "outputs": [
    {
     "data": {
      "text/html": [
       "<div>\n",
       "<style scoped>\n",
       "    .dataframe tbody tr th:only-of-type {\n",
       "        vertical-align: middle;\n",
       "    }\n",
       "\n",
       "    .dataframe tbody tr th {\n",
       "        vertical-align: top;\n",
       "    }\n",
       "\n",
       "    .dataframe thead th {\n",
       "        text-align: right;\n",
       "    }\n",
       "</style>\n",
       "<table border=\"1\" class=\"dataframe\">\n",
       "  <thead>\n",
       "    <tr style=\"text-align: right;\">\n",
       "      <th></th>\n",
       "      <th>LIMIT_BAL</th>\n",
       "      <th>BILL_AMT1</th>\n",
       "      <th>BILL_AMT2</th>\n",
       "      <th>BILL_AMT3</th>\n",
       "      <th>BILL_AMT4</th>\n",
       "      <th>BILL_AMT5</th>\n",
       "      <th>BILL_AMT6</th>\n",
       "      <th>default.payment.next.month</th>\n",
       "    </tr>\n",
       "  </thead>\n",
       "  <tbody>\n",
       "    <tr>\n",
       "      <th>count</th>\n",
       "      <td>30000.000000</td>\n",
       "      <td>30000.000000</td>\n",
       "      <td>30000.000000</td>\n",
       "      <td>3.000000e+04</td>\n",
       "      <td>30000.000000</td>\n",
       "      <td>30000.000000</td>\n",
       "      <td>30000.000000</td>\n",
       "      <td>30000.000000</td>\n",
       "    </tr>\n",
       "    <tr>\n",
       "      <th>mean</th>\n",
       "      <td>167484.322667</td>\n",
       "      <td>51223.330900</td>\n",
       "      <td>49179.075167</td>\n",
       "      <td>4.701315e+04</td>\n",
       "      <td>43262.948967</td>\n",
       "      <td>40311.400967</td>\n",
       "      <td>38871.760400</td>\n",
       "      <td>0.221200</td>\n",
       "    </tr>\n",
       "    <tr>\n",
       "      <th>std</th>\n",
       "      <td>129747.661567</td>\n",
       "      <td>73635.860576</td>\n",
       "      <td>71173.768783</td>\n",
       "      <td>6.934939e+04</td>\n",
       "      <td>64332.856134</td>\n",
       "      <td>60797.155770</td>\n",
       "      <td>59554.107537</td>\n",
       "      <td>0.415062</td>\n",
       "    </tr>\n",
       "    <tr>\n",
       "      <th>min</th>\n",
       "      <td>10000.000000</td>\n",
       "      <td>-165580.000000</td>\n",
       "      <td>-69777.000000</td>\n",
       "      <td>-1.572640e+05</td>\n",
       "      <td>-170000.000000</td>\n",
       "      <td>-81334.000000</td>\n",
       "      <td>-339603.000000</td>\n",
       "      <td>0.000000</td>\n",
       "    </tr>\n",
       "    <tr>\n",
       "      <th>25%</th>\n",
       "      <td>50000.000000</td>\n",
       "      <td>3558.750000</td>\n",
       "      <td>2984.750000</td>\n",
       "      <td>2.666250e+03</td>\n",
       "      <td>2326.750000</td>\n",
       "      <td>1763.000000</td>\n",
       "      <td>1256.000000</td>\n",
       "      <td>0.000000</td>\n",
       "    </tr>\n",
       "    <tr>\n",
       "      <th>50%</th>\n",
       "      <td>140000.000000</td>\n",
       "      <td>22381.500000</td>\n",
       "      <td>21200.000000</td>\n",
       "      <td>2.008850e+04</td>\n",
       "      <td>19052.000000</td>\n",
       "      <td>18104.500000</td>\n",
       "      <td>17071.000000</td>\n",
       "      <td>0.000000</td>\n",
       "    </tr>\n",
       "    <tr>\n",
       "      <th>75%</th>\n",
       "      <td>240000.000000</td>\n",
       "      <td>67091.000000</td>\n",
       "      <td>64006.250000</td>\n",
       "      <td>6.016475e+04</td>\n",
       "      <td>54506.000000</td>\n",
       "      <td>50190.500000</td>\n",
       "      <td>49198.250000</td>\n",
       "      <td>0.000000</td>\n",
       "    </tr>\n",
       "    <tr>\n",
       "      <th>max</th>\n",
       "      <td>1000000.000000</td>\n",
       "      <td>964511.000000</td>\n",
       "      <td>983931.000000</td>\n",
       "      <td>1.664089e+06</td>\n",
       "      <td>891586.000000</td>\n",
       "      <td>927171.000000</td>\n",
       "      <td>961664.000000</td>\n",
       "      <td>1.000000</td>\n",
       "    </tr>\n",
       "  </tbody>\n",
       "</table>\n",
       "</div>"
      ],
      "text/plain": [
       "            LIMIT_BAL      BILL_AMT1      BILL_AMT2     BILL_AMT3  \\\n",
       "count    30000.000000   30000.000000   30000.000000  3.000000e+04   \n",
       "mean    167484.322667   51223.330900   49179.075167  4.701315e+04   \n",
       "std     129747.661567   73635.860576   71173.768783  6.934939e+04   \n",
       "min      10000.000000 -165580.000000  -69777.000000 -1.572640e+05   \n",
       "25%      50000.000000    3558.750000    2984.750000  2.666250e+03   \n",
       "50%     140000.000000   22381.500000   21200.000000  2.008850e+04   \n",
       "75%     240000.000000   67091.000000   64006.250000  6.016475e+04   \n",
       "max    1000000.000000  964511.000000  983931.000000  1.664089e+06   \n",
       "\n",
       "           BILL_AMT4      BILL_AMT5      BILL_AMT6  default.payment.next.month  \n",
       "count   30000.000000   30000.000000   30000.000000                30000.000000  \n",
       "mean    43262.948967   40311.400967   38871.760400                    0.221200  \n",
       "std     64332.856134   60797.155770   59554.107537                    0.415062  \n",
       "min   -170000.000000  -81334.000000 -339603.000000                    0.000000  \n",
       "25%      2326.750000    1763.000000    1256.000000                    0.000000  \n",
       "50%     19052.000000   18104.500000   17071.000000                    0.000000  \n",
       "75%     54506.000000   50190.500000   49198.250000                    0.000000  \n",
       "max    891586.000000  927171.000000  961664.000000                    1.000000  "
      ]
     },
     "execution_count": 60,
     "metadata": {},
     "output_type": "execute_result"
    }
   ],
   "source": [
    "bill_amt.describe()"
   ]
  },
  {
   "cell_type": "code",
   "execution_count": 61,
   "metadata": {},
   "outputs": [],
   "source": [
    "bill_amt = cc_df[['LIMIT_BAL','BILL_AMT1', 'BILL_AMT2', 'BILL_AMT3', 'BILL_AMT4', 'BILL_AMT5', 'BILL_AMT6', 'default.payment.next.month']].copy()"
   ]
  },
  {
   "cell_type": "code",
   "execution_count": 62,
   "metadata": {},
   "outputs": [],
   "source": [
    "bill_amt['Sum of Bills'] = cc_df['BILL_AMT1'] + cc_df['BILL_AMT2']+ cc_df['BILL_AMT3']+ cc_df['BILL_AMT4'] + cc_df['BILL_AMT5']+ cc_df['BILL_AMT6']"
   ]
  },
  {
   "cell_type": "code",
   "execution_count": 63,
   "metadata": {},
   "outputs": [],
   "source": [
    "bill_amt\n",
    "bill_round = bill_amt['Sum of Bills'].abs()\n",
    "range_of_bills = bill_round/300000\n",
    "range_of_bills = range_of_bills.round()"
   ]
  },
  {
   "cell_type": "code",
   "execution_count": 64,
   "metadata": {},
   "outputs": [],
   "source": [
    "bill_amt['Range of Bills'] = range_of_bills"
   ]
  },
  {
   "cell_type": "code",
   "execution_count": 65,
   "metadata": {},
   "outputs": [],
   "source": [
    "bill_amt_mean = bill_amt.groupby('Range of Bills').mean()\n",
    "bill_amt_mean\n",
    "bill_amt_mean['Range of Bills'] = [0, 1, 2, 3 , 4, 5, 6, 7, 8, 9 , 10, 11, 12, 18]"
   ]
  },
  {
   "cell_type": "code",
   "execution_count": 66,
   "metadata": {},
   "outputs": [
    {
     "name": "stdout",
     "output_type": "stream",
     "text": [
      "Ttest_indResult(statistic=-1.6787607570581793, pvalue=0.11044667262365873)\n",
      "Ttest_indResult(statistic=-1.09603081146952, pvalue=0.2791647020696335)\n",
      "Ttest_indResult(statistic=-1.8718535237270293, pvalue=0.07743050579005142)\n",
      "Ttest_indResult(statistic=-1.6837265680864986, pvalue=0.10944208170116519)\n"
     ]
    }
   ],
   "source": [
    "range_zero = bill_amt.loc[bill_amt['Range of Bills'] == 0, 'default.payment.next.month']\n",
    "range_ten = bill_amt.loc[bill_amt['Range of Bills'] == 10, 'default.payment.next.month']\n",
    "range_two = bill_amt.loc[bill_amt['Range of Bills'] == 2, 'default.payment.next.month']\n",
    "range_nine = bill_amt.loc[bill_amt['Range of Bills'] == 9, 'default.payment.next.month']\n",
    "range_one = bill_amt.loc[bill_amt['Range of Bills'] == 1, 'default.payment.next.month']\n",
    "range_zero = bill_amt.loc[bill_amt['Range of Bills'] == 0, 'default.payment.next.month']\n",
    "\n",
    "from scipy.stats import ttest_ind\n",
    "print(ttest_ind(range_zero, range_ten, equal_var = False))\n",
    "from scipy.stats import ttest_ind\n",
    "print(ttest_ind(range_two, range_nine, equal_var = False))\n",
    "from scipy.stats import ttest_ind\n",
    "print(ttest_ind(range_two, range_ten, equal_var = False))\n",
    "from scipy.stats import ttest_ind\n",
    "print(ttest_ind(range_one, range_ten, equal_var = False))"
   ]
  },
  {
   "cell_type": "code",
   "execution_count": 67,
   "metadata": {},
   "outputs": [
    {
     "data": {
      "image/png": "[encoded data removed]",
      "text/plain": [
       "<Figure size 432x288 with 1 Axes>"
      ]
     },
     "metadata": {
      "needs_background": "light"
     },
     "output_type": "display_data"
    }
   ],
   "source": [
    "x = bill_amt_mean['LIMIT_BAL']\n",
    "y = bill_amt_mean['Sum of Bills']\n",
    "plt.scatter(x,y)\n",
    "z = np.polyfit(x, y, 1)\n",
    "p = np.poly1d(z)\n",
    "plt.plot(x, p(x), \"r--\" )\n",
    "plt.title('Limit Balances and Sum of Bills')\n",
    "plt.xlabel('Limit Balances')\n",
    "plt.ylabel('Sum of Bills')\n",
    "plt.show()"
   ]
  },
  {
   "cell_type": "code",
   "execution_count": 68,
   "metadata": {},
   "outputs": [
    {
     "data": {
      "image/png": "[encoded data removed]",
      "text/plain": [
       "<Figure size 432x288 with 1 Axes>"
      ]
     },
     "metadata": {
      "needs_background": "light"
     },
     "output_type": "display_data"
    }
   ],
   "source": [
    "x = bill_amt_mean['Sum of Bills']\n",
    "y = bill_amt_mean['default.payment.next.month']\n",
    "plt.plot(x,y)\n",
    "z = np.polyfit(x, y, 1)\n",
    "p = np.poly1d(z)\n",
    "plt.title('Sum of Bills and Default Percentage Relationship')\n",
    "plt.xlabel('Sum of Bills')\n",
    "plt.ylabel('Percentage of Defaults')\n",
    "plt.show()"
   ]
  },
  {
   "cell_type": "code",
   "execution_count": 69,
   "metadata": {},
   "outputs": [
    {
     "data": {
      "image/png": "[encoded data removed]",
      "text/plain": [
       "<Figure size 432x288 with 1 Axes>"
      ]
     },
     "metadata": {
      "needs_background": "light"
     },
     "output_type": "display_data"
    }
   ],
   "source": [
    "split_data = bill_amt_mean[0:10]\n",
    "x = split_data['Sum of Bills']\n",
    "y = split_data['default.payment.next.month']\n",
    "plt.plot(x,y)\n",
    "z = np.polyfit(x, y, 1)\n",
    "p = np.poly1d(z)\n",
    "plt.plot(x, p(x), \"r--\" )\n",
    "plt.title('Sum of Bills and Default Percentage Relationship')\n",
    "plt.xlabel('Sum of Bills')\n",
    "plt.ylabel('Percentage of Defaults')\n",
    "plt.show()\n",
    "\n"
   ]
  },
  {
   "cell_type": "code",
   "execution_count": 70,
   "metadata": {},
   "outputs": [
    {
     "data": {
      "image/png": "[encoded data removed]",
      "text/plain": [
       "<Figure size 432x288 with 1 Axes>"
      ]
     },
     "metadata": {
      "needs_background": "light"
     },
     "output_type": "display_data"
    }
   ],
   "source": [
    "x = split_data['default.payment.next.month']\n",
    "plt.boxplot(x)\n",
    "plt.boxplot(y)\n",
    "plt.show()\n"
   ]
  },
  {
   "cell_type": "code",
   "execution_count": 71,
   "metadata": {},
   "outputs": [],
   "source": [
    "top = cc_df.head(1000)"
   ]
  },
  {
   "cell_type": "code",
   "execution_count": 72,
   "metadata": {},
   "outputs": [],
   "source": [
    "top_bill = top[['LIMIT_BAL','BILL_AMT1', 'BILL_AMT2', 'BILL_AMT3', 'BILL_AMT4', 'BILL_AMT5', 'BILL_AMT6', 'default.payment.next.month']].copy()"
   ]
  },
  {
   "cell_type": "code",
   "execution_count": 73,
   "metadata": {},
   "outputs": [],
   "source": [
    "top_bill['Sum of Bills'] = top['BILL_AMT1'] + top['BILL_AMT2']+ top['BILL_AMT3']+ top['BILL_AMT4'] + top['BILL_AMT5']+ top['BILL_AMT6']"
   ]
  },
  {
   "cell_type": "code",
   "execution_count": 74,
   "metadata": {},
   "outputs": [],
   "source": [
    "top_bill\n",
    "top_round = top_bill['Sum of Bills'].abs()\n",
    "top_range = top_round/250000\n",
    "top_range = top_range.round()\n",
    "top_bill['Range of Bills'] = top_range\n",
    "top_mean = top_bill.groupby('Range of Bills').mean()\n",
    "\n"
   ]
  },
  {
   "cell_type": "code",
   "execution_count": 75,
   "metadata": {},
   "outputs": [
    {
     "data": {
      "image/png": "[encoded data removed]",
      "text/plain": [
       "<Figure size 432x288 with 1 Axes>"
      ]
     },
     "metadata": {
      "needs_background": "light"
     },
     "output_type": "display_data"
    }
   ],
   "source": [
    "x = top_mean['Sum of Bills']\n",
    "y = top_mean['default.payment.next.month']\n",
    "plt.plot(x,y)\n",
    "z = np.polyfit(x, y, 1)\n",
    "p = np.poly1d(z)\n",
    "plt.plot(x, p(x), \"r--\" )\n",
    "plt.title('Top 1000 Sum of Bills and Default Percentage Relationship')\n",
    "plt.xlabel('Sum of Bills')\n",
    "plt.ylabel('Percentage of Defaults')\n",
    "plt.show()"
   ]
  },
  {
   "cell_type": "markdown",
   "metadata": {},
   "source": [
    "# Questions for Further Analysis:\n",
    "\n",
    "I think for further analysis, it would be interesting to look at a few other factors such as combination of various demographic factors together to see if that would impact default rates. Some questions I would pose in the future are:\n",
    "\n",
    "1. How does combination of one or more social factor impact default rate? A female that is married / has a graduate degree vs. a male that is single and has a university degree? \n",
    "\n",
    "2. I would also like to evaluate the data in terms of payment delays. I think it would be interesting to see how much delayed payments impact default percentage. Does it get worse as the delays get further into the year? \n",
    "\n"
   ]
  }
 ],
 "metadata": {
  "kernelspec": {
   "display_name": "Python 3",
   "language": "python",
   "name": "python3"
  },
  "language_info": {
   "codemirror_mode": {
    "name": "ipython",
    "version": 3
   },
   "file_extension": ".py",
   "mimetype": "text/x-python",
   "name": "python",
   "nbconvert_exporter": "python",
   "pygments_lexer": "ipython3",
   "version": "3.7.1"
  }
 },
 "nbformat": 4,
 "nbformat_minor": 2
}
